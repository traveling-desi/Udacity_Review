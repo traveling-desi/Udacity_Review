{
 "cells": [
  {
   "cell_type": "markdown",
   "metadata": {
    "collapsed": true,
    "deletable": true,
    "editable": true
   },
   "source": [
    "# Language Translation\n",
    "In this project, you’re going to take a peek into the realm of neural network machine translation.  You’ll be training a sequence to sequence model on a dataset of English and French sentences that can translate new sentences from English to French.\n",
    "## Get the Data\n",
    "Since translating the whole language of English to French will take lots of time to train, we have provided you with a small portion of the English corpus."
   ]
  },
  {
   "cell_type": "code",
   "execution_count": 1,
   "metadata": {
    "collapsed": false,
    "deletable": true,
    "editable": true
   },
   "outputs": [],
   "source": [
    "\"\"\"\n",
    "DON'T MODIFY ANYTHING IN THIS CELL\n",
    "\"\"\"\n",
    "import helper\n",
    "import problem_unittests as tests\n",
    "\n",
    "source_path = 'data/small_vocab_en'\n",
    "target_path = 'data/small_vocab_fr'\n",
    "source_text = helper.load_data(source_path)\n",
    "target_text = helper.load_data(target_path)"
   ]
  },
  {
   "cell_type": "markdown",
   "metadata": {
    "deletable": true,
    "editable": true
   },
   "source": [
    "## Explore the Data\n",
    "Play around with view_sentence_range to view different parts of the data."
   ]
  },
  {
   "cell_type": "code",
   "execution_count": 2,
   "metadata": {
    "collapsed": false,
    "deletable": true,
    "editable": true
   },
   "outputs": [
    {
     "name": "stdout",
     "output_type": "stream",
     "text": [
      "Dataset Stats\n",
      "Roughly the number of unique words: 227\n",
      "Number of sentences: 137861\n",
      "Average number of words in a sentence: 13.225277634719028\n",
      "\n",
      "English sentences 0 to 10:\n",
      "new jersey is sometimes quiet during autumn , and it is snowy in april .\n",
      "the united states is usually chilly during july , and it is usually freezing in november .\n",
      "california is usually quiet during march , and it is usually hot in june .\n",
      "the united states is sometimes mild during june , and it is cold in september .\n",
      "your least liked fruit is the grape , but my least liked is the apple .\n",
      "his favorite fruit is the orange , but my favorite is the grape .\n",
      "paris is relaxing during december , but it is usually chilly in july .\n",
      "new jersey is busy during spring , and it is never hot in march .\n",
      "our least liked fruit is the lemon , but my least liked is the grape .\n",
      "the united states is sometimes busy during january , and it is sometimes warm in november .\n",
      "\n",
      "French sentences 0 to 10:\n",
      "new jersey est parfois calme pendant l' automne , et il est neigeux en avril .\n",
      "les états-unis est généralement froid en juillet , et il gèle habituellement en novembre .\n",
      "california est généralement calme en mars , et il est généralement chaud en juin .\n",
      "les états-unis est parfois légère en juin , et il fait froid en septembre .\n",
      "votre moins aimé fruit est le raisin , mais mon moins aimé est la pomme .\n",
      "son fruit préféré est l'orange , mais mon préféré est le raisin .\n",
      "paris est relaxant en décembre , mais il est généralement froid en juillet .\n",
      "new jersey est occupé au printemps , et il est jamais chaude en mars .\n",
      "notre fruit est moins aimé le citron , mais mon moins aimé est le raisin .\n",
      "les états-unis est parfois occupé en janvier , et il est parfois chaud en novembre .\n"
     ]
    }
   ],
   "source": [
    "view_sentence_range = (0, 10)\n",
    "\n",
    "\"\"\"\n",
    "DON'T MODIFY ANYTHING IN THIS CELL\n",
    "\"\"\"\n",
    "import numpy as np\n",
    "\n",
    "print('Dataset Stats')\n",
    "print('Roughly the number of unique words: {}'.format(len({word: None for word in source_text.split()})))\n",
    "\n",
    "sentences = source_text.split('\\n')\n",
    "word_counts = [len(sentence.split()) for sentence in sentences]\n",
    "print('Number of sentences: {}'.format(len(sentences)))\n",
    "print('Average number of words in a sentence: {}'.format(np.average(word_counts)))\n",
    "\n",
    "print()\n",
    "print('English sentences {} to {}:'.format(*view_sentence_range))\n",
    "print('\\n'.join(source_text.split('\\n')[view_sentence_range[0]:view_sentence_range[1]]))\n",
    "print()\n",
    "print('French sentences {} to {}:'.format(*view_sentence_range))\n",
    "print('\\n'.join(target_text.split('\\n')[view_sentence_range[0]:view_sentence_range[1]]))"
   ]
  },
  {
   "cell_type": "markdown",
   "metadata": {
    "deletable": true,
    "editable": true
   },
   "source": [
    "## Implement Preprocessing Function\n",
    "### Text to Word Ids\n",
    "As you did with other RNNs, you must turn the text into a number so the computer can understand it. In the function `text_to_ids()`, you'll turn `source_text` and `target_text` from words to ids.  However, you need to add the `<EOS>` word id at the end of `target_text`.  This will help the neural network predict when the sentence should end.\n",
    "\n",
    "You can get the `<EOS>` word id by doing:\n",
    "```python\n",
    "target_vocab_to_int['<EOS>']\n",
    "```\n",
    "You can get other word ids using `source_vocab_to_int` and `target_vocab_to_int`."
   ]
  },
  {
   "cell_type": "code",
   "execution_count": 3,
   "metadata": {
    "collapsed": false,
    "deletable": true,
    "editable": true
   },
   "outputs": [
    {
     "name": "stdout",
     "output_type": "stream",
     "text": [
      "Tests Passed\n"
     ]
    }
   ],
   "source": [
    "def text_to_ids(source_text, target_text, source_vocab_to_int, target_vocab_to_int):\n",
    "    \"\"\"\n",
    "    Convert source and target text to proper word ids\n",
    "    :param source_text: String that contains all the source text.\n",
    "    :param target_text: String that contains all the target text.\n",
    "    :param source_vocab_to_int: Dictionary to go from the source words to an id\n",
    "    :param target_vocab_to_int: Dictionary to go from the target words to an id\n",
    "    :return: A tuple of lists (source_id_text, target_id_text)\n",
    "    \"\"\"\n",
    "    # TODO: Implement Function\n",
    "    source_id_text = [\n",
    "        [source_vocab_to_int[word] for word in sentence.split()] for sentence in source_text.split('\\n')]\n",
    "    target_id_text = [\n",
    "        [target_vocab_to_int[word] for word in sentence.split()] + [source_vocab_to_int['<EOS>']]\n",
    "        for sentence in target_text.split('\\n')]\n",
    "\n",
    "    return source_id_text, target_id_text\n",
    "\n",
    "\"\"\"\n",
    "DON'T MODIFY ANYTHING IN THIS CELL THAT IS BELOW THIS LINE\n",
    "\"\"\"\n",
    "tests.test_text_to_ids(text_to_ids)"
   ]
  },
  {
   "cell_type": "markdown",
   "metadata": {
    "deletable": true,
    "editable": true
   },
   "source": [
    "### Preprocess all the data and save it\n",
    "Running the code cell below will preprocess all the data and save it to file."
   ]
  },
  {
   "cell_type": "code",
   "execution_count": 4,
   "metadata": {
    "collapsed": false,
    "deletable": true,
    "editable": true
   },
   "outputs": [],
   "source": [
    "\"\"\"\n",
    "DON'T MODIFY ANYTHING IN THIS CELL\n",
    "\"\"\"\n",
    "helper.preprocess_and_save_data(source_path, target_path, text_to_ids)"
   ]
  },
  {
   "cell_type": "markdown",
   "metadata": {
    "deletable": true,
    "editable": true
   },
   "source": [
    "# Check Point\n",
    "This is your first checkpoint. If you ever decide to come back to this notebook or have to restart the notebook, you can start from here. The preprocessed data has been saved to disk."
   ]
  },
  {
   "cell_type": "code",
   "execution_count": 5,
   "metadata": {
    "collapsed": false,
    "deletable": true,
    "editable": true
   },
   "outputs": [],
   "source": [
    "\"\"\"\n",
    "DON'T MODIFY ANYTHING IN THIS CELL\n",
    "\"\"\"\n",
    "import numpy as np\n",
    "import helper\n",
    "\n",
    "(source_int_text, target_int_text), (source_vocab_to_int, target_vocab_to_int), _ = helper.load_preprocess()"
   ]
  },
  {
   "cell_type": "markdown",
   "metadata": {
    "deletable": true,
    "editable": true
   },
   "source": [
    "### Check the Version of TensorFlow and Access to GPU\n",
    "This will check to make sure you have the correct version of TensorFlow and access to a GPU"
   ]
  },
  {
   "cell_type": "code",
   "execution_count": 6,
   "metadata": {
    "collapsed": false,
    "deletable": true,
    "editable": true
   },
   "outputs": [
    {
     "name": "stdout",
     "output_type": "stream",
     "text": [
      "TensorFlow Version: 1.0.1\n"
     ]
    },
    {
     "name": "stderr",
     "output_type": "stream",
     "text": [
      "/Users/nikhil/anaconda3/envs/dlnd-tf-lab/lib/python3.5/site-packages/ipykernel/__main__.py:14: UserWarning: No GPU found. Please use a GPU to train your neural network.\n"
     ]
    }
   ],
   "source": [
    "\"\"\"\n",
    "DON'T MODIFY ANYTHING IN THIS CELL\n",
    "\"\"\"\n",
    "from distutils.version import LooseVersion\n",
    "import warnings\n",
    "import tensorflow as tf\n",
    "\n",
    "# Check TensorFlow Version\n",
    "assert LooseVersion(tf.__version__) >= LooseVersion('1.0'), 'Please use TensorFlow version 1.0 or newer'\n",
    "print('TensorFlow Version: {}'.format(tf.__version__))\n",
    "\n",
    "# Check for a GPU\n",
    "if not tf.test.gpu_device_name():\n",
    "    warnings.warn('No GPU found. Please use a GPU to train your neural network.')\n",
    "else:\n",
    "    print('Default GPU Device: {}'.format(tf.test.gpu_device_name()))"
   ]
  },
  {
   "cell_type": "markdown",
   "metadata": {
    "deletable": true,
    "editable": true
   },
   "source": [
    "## Build the Neural Network\n",
    "You'll build the components necessary to build a Sequence-to-Sequence model by implementing the following functions below:\n",
    "- `model_inputs`\n",
    "- `process_encoding_input`\n",
    "- `encoding_layer`\n",
    "- `decoding_layer_train`\n",
    "- `decoding_layer_infer`\n",
    "- `decoding_layer`\n",
    "- `seq2seq_model`\n",
    "\n",
    "### Input\n",
    "Implement the `model_inputs()` function to create TF Placeholders for the Neural Network. It should create the following placeholders:\n",
    "\n",
    "- Input text placeholder named \"input\" using the TF Placeholder name parameter with rank 2.\n",
    "- Targets placeholder with rank 2.\n",
    "- Learning rate placeholder with rank 0.\n",
    "- Keep probability placeholder named \"keep_prob\" using the TF Placeholder name parameter with rank 0.\n",
    "\n",
    "Return the placeholders in the following the tuple (Input, Targets, Learing Rate, Keep Probability)"
   ]
  },
  {
   "cell_type": "code",
   "execution_count": 7,
   "metadata": {
    "collapsed": false,
    "deletable": true,
    "editable": true
   },
   "outputs": [
    {
     "name": "stdout",
     "output_type": "stream",
     "text": [
      "Tests Passed\n"
     ]
    }
   ],
   "source": [
    "def model_inputs():\n",
    "    \"\"\"\n",
    "    Create TF Placeholders for input, targets, and learning rate.\n",
    "    :return: Tuple (input, targets, learning rate, keep probability)\n",
    "    \"\"\"\n",
    "    # TODO: Implement Function\n",
    "    input_data = tf.placeholder(tf.int32, [None, None], name='input')\n",
    "    targets = tf.placeholder(tf.int32, [None, None])\n",
    "    lr = tf.placeholder(tf.float32)\n",
    "    keep_prob = tf.placeholder(tf.float32, name='keep_prob')\n",
    "\n",
    "    return input_data, targets, lr, keep_prob\n",
    "\n",
    "\"\"\"\n",
    "DON'T MODIFY ANYTHING IN THIS CELL THAT IS BELOW THIS LINE\n",
    "\"\"\"\n",
    "tests.test_model_inputs(model_inputs)"
   ]
  },
  {
   "cell_type": "markdown",
   "metadata": {
    "deletable": true,
    "editable": true
   },
   "source": [
    "### Process Encoding Input\n",
    "Implement `process_encoding_input` by removing the last word id from each batch in `target_data` and concat the GO ID to the begining of each batch."
   ]
  },
  {
   "cell_type": "code",
   "execution_count": 8,
   "metadata": {
    "collapsed": false,
    "deletable": true,
    "editable": true
   },
   "outputs": [
    {
     "name": "stdout",
     "output_type": "stream",
     "text": [
      "Tests Passed\n"
     ]
    }
   ],
   "source": [
    "def process_encoding_input(target_data, target_vocab_to_int, batch_size):\n",
    "    \"\"\"\n",
    "    Preprocess target data for encoding\n",
    "    :param target_data: Target Placehoder\n",
    "    :param target_vocab_to_int: Dictionary to go from the target words to an id\n",
    "    :param batch_size: Batch Size\n",
    "    :return: Preprocessed target data\n",
    "    \"\"\"\n",
    "    # TODO: Implement Function\n",
    "    ending = tf.strided_slice(target_data, [0, 0], [batch_size, -1], [1, 1])\n",
    "    dec_input = tf.concat([tf.fill([batch_size, 1], target_vocab_to_int['<GO>']), ending], 1)\n",
    "\n",
    "    return dec_input\n",
    "\n",
    "\"\"\"\n",
    "DON'T MODIFY ANYTHING IN THIS CELL THAT IS BELOW THIS LINE\n",
    "\"\"\"\n",
    "tests.test_process_encoding_input(process_encoding_input)"
   ]
  },
  {
   "cell_type": "markdown",
   "metadata": {
    "deletable": true,
    "editable": true
   },
   "source": [
    "### Encoding\n",
    "Implement `encoding_layer()` to create a Encoder RNN layer using [`tf.nn.dynamic_rnn()`](https://www.tensorflow.org/api_docs/python/tf/nn/dynamic_rnn)."
   ]
  },
  {
   "cell_type": "code",
   "execution_count": 9,
   "metadata": {
    "collapsed": false,
    "deletable": true,
    "editable": true
   },
   "outputs": [
    {
     "name": "stdout",
     "output_type": "stream",
     "text": [
      "Tests Passed\n"
     ]
    }
   ],
   "source": [
    "def encoding_layer(rnn_inputs, rnn_size, num_layers, keep_prob):\n",
    "    \"\"\"\n",
    "    Create encoding layer\n",
    "    :param rnn_inputs: Inputs for the RNN\n",
    "    :param rnn_size: RNN Size\n",
    "    :param num_layers: Number of layers\n",
    "    :param keep_prob: Dropout keep probability\n",
    "    :return: RNN state\n",
    "    \"\"\"\n",
    "    # TODO: Implement Function\n",
    "    \n",
    "    ## CHANGED HERE\n",
    "    #enc_cell = tf.contrib.rnn.MultiRNNCell([tf.contrib.rnn.BasicLSTMCell(rnn_size)] * num_layers)\n",
    "    #_, enc_state = tf.nn.dynamic_rnn(enc_cell, rnn_inputs, dtype=tf.float32)\n",
    "    \n",
    "    cell = tf.contrib.rnn.BasicLSTMCell(rnn_size)\n",
    "    drop_cell = tf.contrib.rnn.DropoutWrapper(cell, output_keep_prob=keep_prob)\n",
    "    enc_cell = tf.contrib.rnn.MultiRNNCell([drop_cell] * num_layers)\n",
    "    _, enc_state = tf.nn.dynamic_rnn(enc_cell, rnn_inputs, dtype=tf.float32)\n",
    "\n",
    "\n",
    "    return enc_state\n",
    "\n",
    "\"\"\"\n",
    "DON'T MODIFY ANYTHING IN THIS CELL THAT IS BELOW THIS LINE\n",
    "\"\"\"\n",
    "tests.test_encoding_layer(encoding_layer)"
   ]
  },
  {
   "cell_type": "markdown",
   "metadata": {
    "deletable": true,
    "editable": true
   },
   "source": [
    "### Decoding - Training\n",
    "Create training logits using [`tf.contrib.seq2seq.simple_decoder_fn_train()`](https://www.tensorflow.org/api_docs/python/tf/contrib/seq2seq/simple_decoder_fn_train) and [`tf.contrib.seq2seq.dynamic_rnn_decoder()`](https://www.tensorflow.org/api_docs/python/tf/contrib/seq2seq/dynamic_rnn_decoder).  Apply the `output_fn` to the [`tf.contrib.seq2seq.dynamic_rnn_decoder()`](https://www.tensorflow.org/api_docs/python/tf/contrib/seq2seq/dynamic_rnn_decoder) outputs."
   ]
  },
  {
   "cell_type": "code",
   "execution_count": 10,
   "metadata": {
    "collapsed": false,
    "deletable": true,
    "editable": true
   },
   "outputs": [
    {
     "name": "stdout",
     "output_type": "stream",
     "text": [
      "Tests Passed\n"
     ]
    }
   ],
   "source": [
    "def decoding_layer_train(encoder_state, dec_cell, dec_embed_input, sequence_length, decoding_scope,\n",
    "                         output_fn, keep_prob):\n",
    "    \"\"\"\n",
    "    Create a decoding layer for training\n",
    "    :param encoder_state: Encoder State\n",
    "    :param dec_cell: Decoder RNN Cell\n",
    "    :param dec_embed_input: Decoder embedded input\n",
    "    :param sequence_length: Sequence Length\n",
    "    :param decoding_scope: TenorFlow Variable Scope for decoding\n",
    "    :param output_fn: Function to apply the output layer\n",
    "    :param keep_prob: Dropout keep probability\n",
    "    :return: Train Logits\n",
    "    \"\"\"\n",
    "    # TODO: Implement Function\n",
    "    train_decoder_fn = tf.contrib.seq2seq.simple_decoder_fn_train(encoder_state)\n",
    "    train_pred, _, _ = tf.contrib.seq2seq.dynamic_rnn_decoder(\n",
    "        dec_cell, train_decoder_fn, dec_embed_input, sequence_length, scope=decoding_scope)\n",
    "    train_pred_drop = tf.nn.dropout(train_pred, keep_prob)\n",
    "    #train_pred_drop = tf.nn.dropout(train_pred_drop, keep_prob)\n",
    "    return output_fn(train_pred_drop)\n",
    "\n",
    "\n",
    "\"\"\"\n",
    "DON'T MODIFY ANYTHING IN THIS CELL THAT IS BELOW THIS LINE\n",
    "\"\"\"\n",
    "tests.test_decoding_layer_train(decoding_layer_train)"
   ]
  },
  {
   "cell_type": "markdown",
   "metadata": {
    "deletable": true,
    "editable": true
   },
   "source": [
    "### Decoding - Inference\n",
    "Create inference logits using [`tf.contrib.seq2seq.simple_decoder_fn_inference()`](https://www.tensorflow.org/api_docs/python/tf/contrib/seq2seq/simple_decoder_fn_inference) and [`tf.contrib.seq2seq.dynamic_rnn_decoder()`](https://www.tensorflow.org/api_docs/python/tf/contrib/seq2seq/dynamic_rnn_decoder). "
   ]
  },
  {
   "cell_type": "code",
   "execution_count": 11,
   "metadata": {
    "collapsed": false,
    "deletable": true,
    "editable": true
   },
   "outputs": [
    {
     "name": "stdout",
     "output_type": "stream",
     "text": [
      "Tests Passed\n"
     ]
    }
   ],
   "source": [
    "def decoding_layer_infer(encoder_state, dec_cell, dec_embeddings, start_of_sequence_id, end_of_sequence_id,\n",
    "                         maximum_length, vocab_size, decoding_scope, output_fn, keep_prob):\n",
    "    \"\"\"\n",
    "    Create a decoding layer for inference\n",
    "    :param encoder_state: Encoder state\n",
    "    :param dec_cell: Decoder RNN Cell\n",
    "    :param dec_embeddings: Decoder embeddings\n",
    "    :param start_of_sequence_id: GO ID\n",
    "    :param end_of_sequence_id: EOS Id\n",
    "    :param maximum_length: Maximum length of \n",
    "    :param vocab_size: Size of vocabulary\n",
    "    :param decoding_scope: TenorFlow Variable Scope for decoding\n",
    "    :param output_fn: Function to apply the output layer\n",
    "    :param keep_prob: Dropout keep probability\n",
    "    :return: Inference Logits\n",
    "    \"\"\"\n",
    "    # TODO: Implement Function\n",
    "    infer_decoder_fn = tf.contrib.seq2seq.simple_decoder_fn_inference(\n",
    "        output_fn, encoder_state, dec_embeddings, start_of_sequence_id, end_of_sequence_id, maximum_length, vocab_size)\n",
    "    infer_logits, _, _ = tf.contrib.seq2seq.dynamic_rnn_decoder(\n",
    "        dec_cell, infer_decoder_fn, scope=decoding_scope)\n",
    "    infer_logits_drop = tf.nn.dropout(infer_logits, keep_prob)\n",
    "    return infer_logits_drop\n",
    "\n",
    "\n",
    "\"\"\"\n",
    "DON'T MODIFY ANYTHING IN THIS CELL THAT IS BELOW THIS LINE\n",
    "\"\"\"\n",
    "tests.test_decoding_layer_infer(decoding_layer_infer)"
   ]
  },
  {
   "cell_type": "markdown",
   "metadata": {
    "deletable": true,
    "editable": true
   },
   "source": [
    "### Build the Decoding Layer\n",
    "Implement `decoding_layer()` to create a Decoder RNN layer.\n",
    "\n",
    "- Create RNN cell for decoding using `rnn_size` and `num_layers`.\n",
    "- Create the output fuction using [`lamda`](https://docs.python.org/3/tutorial/controlflow.html#lambda-expressions) to transform it's input, logits, to class logits.\n",
    "- Use the your `decoding_layer_train(encoder_state, dec_cell, dec_embed_input, sequence_length, decoding_scope, output_fn, keep_prob)` function to get the training logits.\n",
    "- Use your `decoding_layer_infer(encoder_state, dec_cell, dec_embeddings, start_of_sequence_id, end_of_sequence_id, maximum_length, vocab_size, decoding_scope, output_fn, keep_prob)` function to get the inference logits.\n",
    "\n",
    "Note: You'll need to use [tf.variable_scope](https://www.tensorflow.org/api_docs/python/tf/variable_scope) to share variables between training and inference."
   ]
  },
  {
   "cell_type": "code",
   "execution_count": 12,
   "metadata": {
    "collapsed": false,
    "deletable": true,
    "editable": true
   },
   "outputs": [
    {
     "name": "stdout",
     "output_type": "stream",
     "text": [
      "Tests Passed\n"
     ]
    }
   ],
   "source": [
    "def decoding_layer(dec_embed_input, dec_embeddings, encoder_state, vocab_size, sequence_length, rnn_size,\n",
    "                   num_layers, target_vocab_to_int, keep_prob):\n",
    "    \"\"\"\n",
    "    Create decoding layer\n",
    "    :param dec_embed_input: Decoder embedded input\n",
    "    :param dec_embeddings: Decoder embeddings\n",
    "    :param encoder_state: The encoded state\n",
    "    :param vocab_size: Size of vocabulary\n",
    "    :param sequence_length: Sequence Length\n",
    "    :param rnn_size: RNN Size\n",
    "    :param num_layers: Number of layers\n",
    "    :param target_vocab_to_int: Dictionary to go from the target words to an id\n",
    "    :param keep_prob: Dropout keep probability\n",
    "    :return: Tuple of (Training Logits, Inference Logits)\n",
    "    \"\"\"\n",
    "    # TODO: Implement Function\n",
    "    with tf.variable_scope(\"decoding\") as decoding_scope:\n",
    "        dec_cell = tf.contrib.rnn.MultiRNNCell([tf.contrib.rnn.BasicLSTMCell(rnn_size)] * num_layers)\n",
    "        output_fn = lambda x: tf.contrib.layers.fully_connected(x, vocab_size, None, scope=decoding_scope)\n",
    "\n",
    "        train_logits = decoding_layer_train(\n",
    "            encoder_state, dec_cell, dec_embed_input, sequence_length, decoding_scope, output_fn, keep_prob)\n",
    "        decoding_scope.reuse_variables()\n",
    "        infer_logits = decoding_layer_infer(encoder_state, dec_cell, dec_embeddings, target_vocab_to_int['<GO>'],\n",
    "                                            target_vocab_to_int['<EOS>'], sequence_length - 1, vocab_size,\n",
    "                                            decoding_scope, output_fn, keep_prob)\n",
    "\n",
    "    return train_logits, infer_logits\n",
    "\n",
    "\n",
    "\"\"\"\n",
    "DON'T MODIFY ANYTHING IN THIS CELL THAT IS BELOW THIS LINE\n",
    "\"\"\"\n",
    "tests.test_decoding_layer(decoding_layer)"
   ]
  },
  {
   "cell_type": "markdown",
   "metadata": {
    "deletable": true,
    "editable": true
   },
   "source": [
    "### Build the Neural Network\n",
    "Apply the functions you implemented above to:\n",
    "\n",
    "- Apply embedding to the input data for the encoder.\n",
    "- Encode the input using your `encoding_layer(rnn_inputs, rnn_size, num_layers, keep_prob)`.\n",
    "- Process target data using your `process_encoding_input(target_data, target_vocab_to_int, batch_size)` function.\n",
    "- Apply embedding to the target data for the decoder.\n",
    "- Decode the encoded input using your `decoding_layer(dec_embed_input, dec_embeddings, encoder_state, vocab_size, sequence_length, rnn_size, num_layers, target_vocab_to_int, keep_prob)`."
   ]
  },
  {
   "cell_type": "code",
   "execution_count": 13,
   "metadata": {
    "collapsed": false,
    "deletable": true,
    "editable": true
   },
   "outputs": [
    {
     "name": "stdout",
     "output_type": "stream",
     "text": [
      "Tests Passed\n"
     ]
    }
   ],
   "source": [
    "def seq2seq_model(input_data, target_data, keep_prob, batch_size, sequence_length, source_vocab_size, target_vocab_size,\n",
    "                  enc_embedding_size, dec_embedding_size, rnn_size, num_layers, target_vocab_to_int):\n",
    "    \"\"\"\n",
    "    Build the Sequence-to-Sequence part of the neural network\n",
    "    :param input_data: Input placeholder\n",
    "    :param target_data: Target placeholder\n",
    "    :param keep_prob: Dropout keep probability placeholder\n",
    "    :param batch_size: Batch Size\n",
    "    :param sequence_length: Sequence Length\n",
    "    :param source_vocab_size: Source vocabulary size\n",
    "    :param target_vocab_size: Target vocabulary size\n",
    "    :param enc_embedding_size: Decoder embedding size\n",
    "    :param dec_embedding_size: Encoder embedding size\n",
    "    :param rnn_size: RNN Size\n",
    "    :param num_layers: Number of layers\n",
    "    :param target_vocab_to_int: Dictionary to go from the target words to an id\n",
    "    :return: Tuple of (Training Logits, Inference Logits)\n",
    "    \"\"\"\n",
    "    # TODO: Implement Function\n",
    "    enc_embed_input = tf.contrib.layers.embed_sequence(input_data, embed_dim=enc_embedding_size, vocab_size=source_vocab_size)\n",
    "    \n",
    "    ## CHANGED HERE\n",
    "    #enc_embed_input_drop = tf.nn.dropout(enc_embed_input, keep_prob)\n",
    "    enc_state = encoding_layer(enc_embed_input, rnn_size, num_layers, keep_prob)\n",
    "\n",
    "    dec_input = process_encoding_input(target_data, target_vocab_to_int, batch_size)\n",
    "    dec_embeddings = tf.Variable(tf.random_uniform([target_vocab_size, dec_embedding_size]))\n",
    "    dec_embed_input = tf.nn.embedding_lookup(dec_embeddings, dec_input)\n",
    "\n",
    "    return decoding_layer(dec_embed_input, dec_embeddings, enc_state, target_vocab_size, sequence_length,\n",
    "                          rnn_size, num_layers, target_vocab_to_int, keep_prob)\n",
    "\n",
    "\n",
    "\"\"\"\n",
    "DON'T MODIFY ANYTHING IN THIS CELL THAT IS BELOW THIS LINE\n",
    "\"\"\"\n",
    "tests.test_seq2seq_model(seq2seq_model)"
   ]
  },
  {
   "cell_type": "markdown",
   "metadata": {
    "deletable": true,
    "editable": true
   },
   "source": [
    "## Neural Network Training\n",
    "### Hyperparameters\n",
    "Tune the following parameters:\n",
    "\n",
    "- Set `epochs` to the number of epochs.\n",
    "- Set `batch_size` to the batch size.\n",
    "- Set `rnn_size` to the size of the RNNs.\n",
    "- Set `num_layers` to the number of layers.\n",
    "- Set `encoding_embedding_size` to the size of the embedding for the encoder.\n",
    "- Set `decoding_embedding_size` to the size of the embedding for the decoder.\n",
    "- Set `learning_rate` to the learning rate.\n",
    "- Set `keep_probability` to the Dropout keep probability"
   ]
  },
  {
   "cell_type": "code",
   "execution_count": 14,
   "metadata": {
    "collapsed": true,
    "deletable": true,
    "editable": true
   },
   "outputs": [],
   "source": [
    "# Number of Epochs\n",
    "epochs = 5\n",
    "# Batch Size\n",
    "batch_size = 512\n",
    "# RNN Size\n",
    "rnn_size = 200\n",
    "# Number of Layers\n",
    "num_layers = 2\n",
    "# Embedding Size\n",
    "encoding_embedding_size = 200\n",
    "decoding_embedding_size = 200\n",
    "# Learning Rate\n",
    "learning_rate = 0.001\n",
    "# Dropout Keep Probability\n",
    "keep_probability = 0.7"
   ]
  },
  {
   "cell_type": "markdown",
   "metadata": {
    "deletable": true,
    "editable": true
   },
   "source": [
    "### Build the Graph\n",
    "Build the graph using the neural network you implemented."
   ]
  },
  {
   "cell_type": "code",
   "execution_count": 15,
   "metadata": {
    "collapsed": false,
    "deletable": true,
    "editable": true
   },
   "outputs": [],
   "source": [
    "\"\"\"\n",
    "DON'T MODIFY ANYTHING IN THIS CELL\n",
    "\"\"\"\n",
    "save_path = 'checkpoints/dev'\n",
    "(source_int_text, target_int_text), (source_vocab_to_int, target_vocab_to_int), _ = helper.load_preprocess()\n",
    "max_target_sentence_length = max([len(sentence) for sentence in source_int_text])\n",
    "\n",
    "train_graph = tf.Graph()\n",
    "with train_graph.as_default():\n",
    "    input_data, targets, lr, keep_prob = model_inputs()\n",
    "    sequence_length = tf.placeholder_with_default(max_target_sentence_length, None, name='sequence_length')\n",
    "    input_shape = tf.shape(input_data)\n",
    "    \n",
    "    train_logits, inference_logits = seq2seq_model(\n",
    "        tf.reverse(input_data, [-1]), targets, keep_prob, batch_size, sequence_length, len(source_vocab_to_int), len(target_vocab_to_int),\n",
    "        encoding_embedding_size, decoding_embedding_size, rnn_size, num_layers, target_vocab_to_int)\n",
    "\n",
    "    tf.identity(inference_logits, 'logits')\n",
    "    with tf.name_scope(\"optimization\"):\n",
    "        # Loss function\n",
    "        cost = tf.contrib.seq2seq.sequence_loss(\n",
    "            train_logits,\n",
    "            targets,\n",
    "            tf.ones([input_shape[0], sequence_length]))\n",
    "\n",
    "        # Optimizer\n",
    "        optimizer = tf.train.AdamOptimizer(lr)\n",
    "\n",
    "        # Gradient Clipping\n",
    "        gradients = optimizer.compute_gradients(cost)\n",
    "        capped_gradients = [(tf.clip_by_value(grad, -1., 1.), var) for grad, var in gradients if grad is not None]\n",
    "        train_op = optimizer.apply_gradients(capped_gradients)"
   ]
  },
  {
   "cell_type": "markdown",
   "metadata": {
    "deletable": true,
    "editable": true
   },
   "source": [
    "### Train\n",
    "Train the neural network on the preprocessed data. If you have a hard time getting a good loss, check the forms to see if anyone is having the same problem."
   ]
  },
  {
   "cell_type": "code",
   "execution_count": 16,
   "metadata": {
    "collapsed": false,
    "deletable": true,
    "editable": true,
    "scrolled": true
   },
   "outputs": [
    {
     "name": "stdout",
     "output_type": "stream",
     "text": [
      "Epoch   0 Batch    0/269 - Train Accuracy:  0.242, Validation Accuracy:  0.310, Loss:  5.883\n",
      "Epoch   0 Batch    1/269 - Train Accuracy:  0.233, Validation Accuracy:  0.310, Loss:  5.562\n",
      "Epoch   0 Batch    2/269 - Train Accuracy:  0.266, Validation Accuracy:  0.310, Loss:  5.200\n",
      "Epoch   0 Batch    3/269 - Train Accuracy:  0.244, Validation Accuracy:  0.310, Loss:  4.940\n",
      "Epoch   0 Batch    4/269 - Train Accuracy:  0.232, Validation Accuracy:  0.310, Loss:  4.742\n",
      "Epoch   0 Batch    5/269 - Train Accuracy:  0.233, Validation Accuracy:  0.310, Loss:  4.595\n",
      "Epoch   0 Batch    6/269 - Train Accuracy:  0.286, Validation Accuracy:  0.317, Loss:  4.263\n",
      "Epoch   0 Batch    7/269 - Train Accuracy:  0.292, Validation Accuracy:  0.325, Loss:  4.154\n",
      "Epoch   0 Batch    8/269 - Train Accuracy:  0.276, Validation Accuracy:  0.341, Loss:  4.172\n",
      "Epoch   0 Batch    9/269 - Train Accuracy:  0.301, Validation Accuracy:  0.342, Loss:  3.936\n",
      "Epoch   0 Batch   10/269 - Train Accuracy:  0.271, Validation Accuracy:  0.343, Loss:  3.980\n",
      "Epoch   0 Batch   11/269 - Train Accuracy:  0.308, Validation Accuracy:  0.343, Loss:  3.729\n",
      "Epoch   0 Batch   12/269 - Train Accuracy:  0.292, Validation Accuracy:  0.354, Loss:  3.736\n",
      "Epoch   0 Batch   13/269 - Train Accuracy:  0.355, Validation Accuracy:  0.354, Loss:  3.388\n",
      "Epoch   0 Batch   14/269 - Train Accuracy:  0.331, Validation Accuracy:  0.366, Loss:  3.495\n",
      "Epoch   0 Batch   15/269 - Train Accuracy:  0.329, Validation Accuracy:  0.373, Loss:  3.498\n",
      "Epoch   0 Batch   16/269 - Train Accuracy:  0.345, Validation Accuracy:  0.374, Loss:  3.381\n",
      "Epoch   0 Batch   17/269 - Train Accuracy:  0.342, Validation Accuracy:  0.379, Loss:  3.348\n",
      "Epoch   0 Batch   18/269 - Train Accuracy:  0.312, Validation Accuracy:  0.379, Loss:  3.425\n",
      "Epoch   0 Batch   19/269 - Train Accuracy:  0.381, Validation Accuracy:  0.382, Loss:  3.115\n",
      "Epoch   0 Batch   20/269 - Train Accuracy:  0.321, Validation Accuracy:  0.383, Loss:  3.335\n",
      "Epoch   0 Batch   21/269 - Train Accuracy:  0.328, Validation Accuracy:  0.390, Loss:  3.319\n",
      "Epoch   0 Batch   22/269 - Train Accuracy:  0.371, Validation Accuracy:  0.397, Loss:  3.122\n",
      "Epoch   0 Batch   23/269 - Train Accuracy:  0.376, Validation Accuracy:  0.395, Loss:  3.070\n",
      "Epoch   0 Batch   24/269 - Train Accuracy:  0.328, Validation Accuracy:  0.395, Loss:  3.210\n",
      "Epoch   0 Batch   25/269 - Train Accuracy:  0.335, Validation Accuracy:  0.397, Loss:  3.190\n",
      "Epoch   0 Batch   26/269 - Train Accuracy:  0.395, Validation Accuracy:  0.396, Loss:  2.885\n",
      "Epoch   0 Batch   27/269 - Train Accuracy:  0.369, Validation Accuracy:  0.402, Loss:  3.018\n",
      "Epoch   0 Batch   28/269 - Train Accuracy:  0.339, Validation Accuracy:  0.412, Loss:  3.159\n",
      "Epoch   0 Batch   29/269 - Train Accuracy:  0.346, Validation Accuracy:  0.408, Loss:  3.088\n",
      "Epoch   0 Batch   30/269 - Train Accuracy:  0.382, Validation Accuracy:  0.419, Loss:  2.955\n",
      "Epoch   0 Batch   31/269 - Train Accuracy:  0.404, Validation Accuracy:  0.426, Loss:  2.894\n",
      "Epoch   0 Batch   32/269 - Train Accuracy:  0.389, Validation Accuracy:  0.424, Loss:  2.925\n",
      "Epoch   0 Batch   33/269 - Train Accuracy:  0.396, Validation Accuracy:  0.425, Loss:  2.840\n",
      "Epoch   0 Batch   34/269 - Train Accuracy:  0.407, Validation Accuracy:  0.434, Loss:  2.856\n",
      "Epoch   0 Batch   35/269 - Train Accuracy:  0.417, Validation Accuracy:  0.441, Loss:  2.818\n",
      "Epoch   0 Batch   36/269 - Train Accuracy:  0.410, Validation Accuracy:  0.437, Loss:  2.822\n",
      "Epoch   0 Batch   37/269 - Train Accuracy:  0.418, Validation Accuracy:  0.439, Loss:  2.798\n",
      "Epoch   0 Batch   38/269 - Train Accuracy:  0.415, Validation Accuracy:  0.445, Loss:  2.783\n",
      "Epoch   0 Batch   39/269 - Train Accuracy:  0.403, Validation Accuracy:  0.434, Loss:  2.769\n",
      "Epoch   0 Batch   40/269 - Train Accuracy:  0.387, Validation Accuracy:  0.444, Loss:  2.872\n",
      "Epoch   0 Batch   41/269 - Train Accuracy:  0.434, Validation Accuracy:  0.459, Loss:  2.733\n",
      "Epoch   0 Batch   42/269 - Train Accuracy:  0.445, Validation Accuracy:  0.448, Loss:  2.624\n",
      "Epoch   0 Batch   43/269 - Train Accuracy:  0.409, Validation Accuracy:  0.460, Loss:  2.803\n",
      "Epoch   0 Batch   44/269 - Train Accuracy:  0.445, Validation Accuracy:  0.463, Loss:  2.660\n",
      "Epoch   0 Batch   45/269 - Train Accuracy:  0.396, Validation Accuracy:  0.452, Loss:  2.777\n",
      "Epoch   0 Batch   46/269 - Train Accuracy:  0.400, Validation Accuracy:  0.460, Loss:  2.831\n",
      "Epoch   0 Batch   47/269 - Train Accuracy:  0.460, Validation Accuracy:  0.459, Loss:  2.517\n",
      "Epoch   0 Batch   48/269 - Train Accuracy:  0.431, Validation Accuracy:  0.455, Loss:  2.595\n",
      "Epoch   0 Batch   49/269 - Train Accuracy:  0.400, Validation Accuracy:  0.452, Loss:  2.728\n",
      "Epoch   0 Batch   50/269 - Train Accuracy:  0.413, Validation Accuracy:  0.467, Loss:  2.731\n",
      "Epoch   0 Batch   51/269 - Train Accuracy:  0.434, Validation Accuracy:  0.467, Loss:  2.619\n",
      "Epoch   0 Batch   52/269 - Train Accuracy:  0.444, Validation Accuracy:  0.465, Loss:  2.555\n",
      "Epoch   0 Batch   53/269 - Train Accuracy:  0.411, Validation Accuracy:  0.467, Loss:  2.679\n",
      "Epoch   0 Batch   54/269 - Train Accuracy:  0.424, Validation Accuracy:  0.471, Loss:  2.665\n",
      "Epoch   0 Batch   55/269 - Train Accuracy:  0.443, Validation Accuracy:  0.462, Loss:  2.532\n",
      "Epoch   0 Batch   56/269 - Train Accuracy:  0.455, Validation Accuracy:  0.472, Loss:  2.525\n",
      "Epoch   0 Batch   57/269 - Train Accuracy:  0.452, Validation Accuracy:  0.474, Loss:  2.507\n",
      "Epoch   0 Batch   58/269 - Train Accuracy:  0.451, Validation Accuracy:  0.474, Loss:  2.495\n",
      "Epoch   0 Batch   59/269 - Train Accuracy:  0.444, Validation Accuracy:  0.467, Loss:  2.471\n",
      "Epoch   0 Batch   60/269 - Train Accuracy:  0.447, Validation Accuracy:  0.463, Loss:  2.421\n",
      "Epoch   0 Batch   61/269 - Train Accuracy:  0.464, Validation Accuracy:  0.457, Loss:  2.374\n",
      "Epoch   0 Batch   62/269 - Train Accuracy:  0.476, Validation Accuracy:  0.475, Loss:  2.371\n",
      "Epoch   0 Batch   63/269 - Train Accuracy:  0.437, Validation Accuracy:  0.467, Loss:  2.420\n",
      "Epoch   0 Batch   64/269 - Train Accuracy:  0.454, Validation Accuracy:  0.479, Loss:  2.457\n",
      "Epoch   0 Batch   65/269 - Train Accuracy:  0.464, Validation Accuracy:  0.483, Loss:  2.419\n",
      "Epoch   0 Batch   66/269 - Train Accuracy:  0.464, Validation Accuracy:  0.477, Loss:  2.340\n",
      "Epoch   0 Batch   67/269 - Train Accuracy:  0.450, Validation Accuracy:  0.477, Loss:  2.423\n",
      "Epoch   0 Batch   68/269 - Train Accuracy:  0.451, Validation Accuracy:  0.480, Loss:  2.412\n",
      "Epoch   0 Batch   69/269 - Train Accuracy:  0.412, Validation Accuracy:  0.473, Loss:  2.534\n",
      "Epoch   0 Batch   70/269 - Train Accuracy:  0.458, Validation Accuracy:  0.479, Loss:  2.382\n",
      "Epoch   0 Batch   71/269 - Train Accuracy:  0.441, Validation Accuracy:  0.490, Loss:  2.494\n",
      "Epoch   0 Batch   72/269 - Train Accuracy:  0.474, Validation Accuracy:  0.485, Loss:  2.271\n",
      "Epoch   0 Batch   73/269 - Train Accuracy:  0.465, Validation Accuracy:  0.484, Loss:  2.345\n",
      "Epoch   0 Batch   74/269 - Train Accuracy:  0.438, Validation Accuracy:  0.481, Loss:  2.404\n",
      "Epoch   0 Batch   75/269 - Train Accuracy:  0.460, Validation Accuracy:  0.487, Loss:  2.314\n",
      "Epoch   0 Batch   76/269 - Train Accuracy:  0.455, Validation Accuracy:  0.491, Loss:  2.363\n",
      "Epoch   0 Batch   77/269 - Train Accuracy:  0.465, Validation Accuracy:  0.483, Loss:  2.284\n",
      "Epoch   0 Batch   78/269 - Train Accuracy:  0.453, Validation Accuracy:  0.475, Loss:  2.320\n",
      "Epoch   0 Batch   79/269 - Train Accuracy:  0.440, Validation Accuracy:  0.475, Loss:  2.319\n",
      "Epoch   0 Batch   80/269 - Train Accuracy:  0.476, Validation Accuracy:  0.487, Loss:  2.249\n",
      "Epoch   0 Batch   81/269 - Train Accuracy:  0.462, Validation Accuracy:  0.481, Loss:  2.266\n",
      "Epoch   0 Batch   82/269 - Train Accuracy:  0.463, Validation Accuracy:  0.482, Loss:  2.212\n",
      "Epoch   0 Batch   83/269 - Train Accuracy:  0.474, Validation Accuracy:  0.494, Loss:  2.219\n",
      "Epoch   0 Batch   84/269 - Train Accuracy:  0.468, Validation Accuracy:  0.485, Loss:  2.217\n",
      "Epoch   0 Batch   85/269 - Train Accuracy:  0.450, Validation Accuracy:  0.484, Loss:  2.252\n",
      "Epoch   0 Batch   86/269 - Train Accuracy:  0.453, Validation Accuracy:  0.490, Loss:  2.234\n",
      "Epoch   0 Batch   87/269 - Train Accuracy:  0.425, Validation Accuracy:  0.479, Loss:  2.347\n",
      "Epoch   0 Batch   88/269 - Train Accuracy:  0.467, Validation Accuracy:  0.486, Loss:  2.201\n",
      "Epoch   0 Batch   89/269 - Train Accuracy:  0.472, Validation Accuracy:  0.491, Loss:  2.175\n",
      "Epoch   0 Batch   90/269 - Train Accuracy:  0.435, Validation Accuracy:  0.488, Loss:  2.301\n",
      "Epoch   0 Batch   91/269 - Train Accuracy:  0.456, Validation Accuracy:  0.483, Loss:  2.191\n",
      "Epoch   0 Batch   92/269 - Train Accuracy:  0.454, Validation Accuracy:  0.480, Loss:  2.142\n",
      "Epoch   0 Batch   93/269 - Train Accuracy:  0.486, Validation Accuracy:  0.484, Loss:  2.086\n",
      "Epoch   0 Batch   94/269 - Train Accuracy:  0.477, Validation Accuracy:  0.501, Loss:  2.158\n",
      "Epoch   0 Batch   95/269 - Train Accuracy:  0.444, Validation Accuracy:  0.471, Loss:  2.115\n",
      "Epoch   0 Batch   96/269 - Train Accuracy:  0.470, Validation Accuracy:  0.494, Loss:  2.120\n",
      "Epoch   0 Batch   97/269 - Train Accuracy:  0.474, Validation Accuracy:  0.501, Loss:  2.094\n",
      "Epoch   0 Batch   98/269 - Train Accuracy:  0.459, Validation Accuracy:  0.475, Loss:  2.067\n",
      "Epoch   0 Batch   99/269 - Train Accuracy:  0.431, Validation Accuracy:  0.481, Loss:  2.185\n",
      "Epoch   0 Batch  100/269 - Train Accuracy:  0.496, Validation Accuracy:  0.500, Loss:  2.021\n",
      "Epoch   0 Batch  101/269 - Train Accuracy:  0.437, Validation Accuracy:  0.490, Loss:  2.177\n",
      "Epoch   0 Batch  102/269 - Train Accuracy:  0.462, Validation Accuracy:  0.482, Loss:  2.032\n",
      "Epoch   0 Batch  103/269 - Train Accuracy:  0.477, Validation Accuracy:  0.496, Loss:  2.025\n",
      "Epoch   0 Batch  104/269 - Train Accuracy:  0.460, Validation Accuracy:  0.492, Loss:  2.027\n",
      "Epoch   0 Batch  105/269 - Train Accuracy:  0.445, Validation Accuracy:  0.475, Loss:  2.022\n",
      "Epoch   0 Batch  106/269 - Train Accuracy:  0.467, Validation Accuracy:  0.496, Loss:  2.024\n",
      "Epoch   0 Batch  107/269 - Train Accuracy:  0.438, Validation Accuracy:  0.499, Loss:  2.109\n",
      "Epoch   0 Batch  108/269 - Train Accuracy:  0.451, Validation Accuracy:  0.480, Loss:  1.976\n",
      "Epoch   0 Batch  109/269 - Train Accuracy:  0.463, Validation Accuracy:  0.494, Loss:  1.989\n",
      "Epoch   0 Batch  110/269 - Train Accuracy:  0.472, Validation Accuracy:  0.499, Loss:  1.955\n",
      "Epoch   0 Batch  111/269 - Train Accuracy:  0.426, Validation Accuracy:  0.489, Loss:  2.075\n",
      "Epoch   0 Batch  112/269 - Train Accuracy:  0.483, Validation Accuracy:  0.504, Loss:  1.923\n",
      "Epoch   0 Batch  113/269 - Train Accuracy:  0.499, Validation Accuracy:  0.509, Loss:  1.837\n",
      "Epoch   0 Batch  114/269 - Train Accuracy:  0.459, Validation Accuracy:  0.491, Loss:  1.917\n",
      "Epoch   0 Batch  115/269 - Train Accuracy:  0.455, Validation Accuracy:  0.505, Loss:  1.977\n",
      "Epoch   0 Batch  116/269 - Train Accuracy:  0.498, Validation Accuracy:  0.519, Loss:  1.888\n",
      "Epoch   0 Batch  117/269 - Train Accuracy:  0.461, Validation Accuracy:  0.495, Loss:  1.883\n",
      "Epoch   0 Batch  118/269 - Train Accuracy:  0.508, Validation Accuracy:  0.509, Loss:  1.821\n",
      "Epoch   0 Batch  119/269 - Train Accuracy:  0.477, Validation Accuracy:  0.515, Loss:  1.943\n",
      "Epoch   0 Batch  120/269 - Train Accuracy:  0.442, Validation Accuracy:  0.494, Loss:  1.919\n",
      "Epoch   0 Batch  121/269 - Train Accuracy:  0.482, Validation Accuracy:  0.508, Loss:  1.835\n",
      "Epoch   0 Batch  122/269 - Train Accuracy:  0.496, Validation Accuracy:  0.514, Loss:  1.803\n",
      "Epoch   0 Batch  123/269 - Train Accuracy:  0.435, Validation Accuracy:  0.495, Loss:  1.908\n",
      "Epoch   0 Batch  124/269 - Train Accuracy:  0.485, Validation Accuracy:  0.509, Loss:  1.792\n",
      "Epoch   0 Batch  125/269 - Train Accuracy:  0.485, Validation Accuracy:  0.508, Loss:  1.779\n",
      "Epoch   0 Batch  126/269 - Train Accuracy:  0.480, Validation Accuracy:  0.499, Loss:  1.751\n",
      "Epoch   0 Batch  127/269 - Train Accuracy:  0.459, Validation Accuracy:  0.502, Loss:  1.862\n",
      "Epoch   0 Batch  128/269 - Train Accuracy:  0.503, Validation Accuracy:  0.518, Loss:  1.759\n",
      "Epoch   0 Batch  129/269 - Train Accuracy:  0.484, Validation Accuracy:  0.507, Loss:  1.778\n",
      "Epoch   0 Batch  130/269 - Train Accuracy:  0.457, Validation Accuracy:  0.512, Loss:  1.872\n",
      "Epoch   0 Batch  131/269 - Train Accuracy:  0.474, Validation Accuracy:  0.510, Loss:  1.798\n",
      "Epoch   0 Batch  132/269 - Train Accuracy:  0.476, Validation Accuracy:  0.504, Loss:  1.741\n",
      "Epoch   0 Batch  133/269 - Train Accuracy:  0.493, Validation Accuracy:  0.521, Loss:  1.711\n",
      "Epoch   0 Batch  134/269 - Train Accuracy:  0.450, Validation Accuracy:  0.500, Loss:  1.784\n",
      "Epoch   0 Batch  135/269 - Train Accuracy:  0.458, Validation Accuracy:  0.512, Loss:  1.822\n",
      "Epoch   0 Batch  136/269 - Train Accuracy:  0.461, Validation Accuracy:  0.514, Loss:  1.784\n",
      "Epoch   0 Batch  137/269 - Train Accuracy:  0.465, Validation Accuracy:  0.506, Loss:  1.764\n",
      "Epoch   0 Batch  138/269 - Train Accuracy:  0.479, Validation Accuracy:  0.523, Loss:  1.725\n",
      "Epoch   0 Batch  139/269 - Train Accuracy:  0.488, Validation Accuracy:  0.500, Loss:  1.646\n",
      "Epoch   0 Batch  140/269 - Train Accuracy:  0.480, Validation Accuracy:  0.505, Loss:  1.666\n",
      "Epoch   0 Batch  141/269 - Train Accuracy:  0.487, Validation Accuracy:  0.517, Loss:  1.678\n",
      "Epoch   0 Batch  142/269 - Train Accuracy:  0.476, Validation Accuracy:  0.490, Loss:  1.641\n",
      "Epoch   0 Batch  143/269 - Train Accuracy:  0.489, Validation Accuracy:  0.508, Loss:  1.650\n",
      "Epoch   0 Batch  144/269 - Train Accuracy:  0.500, Validation Accuracy:  0.518, Loss:  1.614\n",
      "Epoch   0 Batch  145/269 - Train Accuracy:  0.463, Validation Accuracy:  0.494, Loss:  1.623\n",
      "Epoch   0 Batch  146/269 - Train Accuracy:  0.494, Validation Accuracy:  0.509, Loss:  1.602\n",
      "Epoch   0 Batch  147/269 - Train Accuracy:  0.511, Validation Accuracy:  0.510, Loss:  1.540\n",
      "Epoch   0 Batch  148/269 - Train Accuracy:  0.451, Validation Accuracy:  0.494, Loss:  1.642\n",
      "Epoch   0 Batch  149/269 - Train Accuracy:  0.483, Validation Accuracy:  0.503, Loss:  1.584\n",
      "Epoch   0 Batch  150/269 - Train Accuracy:  0.491, Validation Accuracy:  0.515, Loss:  1.591\n",
      "Epoch   0 Batch  151/269 - Train Accuracy:  0.500, Validation Accuracy:  0.495, Loss:  1.514\n",
      "Epoch   0 Batch  152/269 - Train Accuracy:  0.466, Validation Accuracy:  0.493, Loss:  1.582\n",
      "Epoch   0 Batch  153/269 - Train Accuracy:  0.489, Validation Accuracy:  0.503, Loss:  1.552\n",
      "Epoch   0 Batch  154/269 - Train Accuracy:  0.448, Validation Accuracy:  0.504, Loss:  1.641\n",
      "Epoch   0 Batch  155/269 - Train Accuracy:  0.497, Validation Accuracy:  0.496, Loss:  1.467\n",
      "Epoch   0 Batch  156/269 - Train Accuracy:  0.472, Validation Accuracy:  0.512, Loss:  1.592\n",
      "Epoch   0 Batch  157/269 - Train Accuracy:  0.466, Validation Accuracy:  0.502, Loss:  1.550\n",
      "Epoch   0 Batch  158/269 - Train Accuracy:  0.455, Validation Accuracy:  0.487, Loss:  1.516\n",
      "Epoch   0 Batch  159/269 - Train Accuracy:  0.488, Validation Accuracy:  0.512, Loss:  1.541\n",
      "Epoch   0 Batch  160/269 - Train Accuracy:  0.476, Validation Accuracy:  0.502, Loss:  1.537\n",
      "Epoch   0 Batch  161/269 - Train Accuracy:  0.445, Validation Accuracy:  0.483, Loss:  1.536\n",
      "Epoch   0 Batch  162/269 - Train Accuracy:  0.487, Validation Accuracy:  0.511, Loss:  1.499\n",
      "Epoch   0 Batch  163/269 - Train Accuracy:  0.464, Validation Accuracy:  0.494, Loss:  1.501\n",
      "Epoch   0 Batch  164/269 - Train Accuracy:  0.454, Validation Accuracy:  0.486, Loss:  1.496\n",
      "Epoch   0 Batch  165/269 - Train Accuracy:  0.450, Validation Accuracy:  0.510, Loss:  1.546\n",
      "Epoch   0 Batch  166/269 - Train Accuracy:  0.500, Validation Accuracy:  0.499, Loss:  1.402\n",
      "Epoch   0 Batch  167/269 - Train Accuracy:  0.466, Validation Accuracy:  0.489, Loss:  1.470\n",
      "Epoch   0 Batch  168/269 - Train Accuracy:  0.481, Validation Accuracy:  0.510, Loss:  1.494\n",
      "Epoch   0 Batch  169/269 - Train Accuracy:  0.448, Validation Accuracy:  0.488, Loss:  1.470\n",
      "Epoch   0 Batch  170/269 - Train Accuracy:  0.463, Validation Accuracy:  0.489, Loss:  1.461\n",
      "Epoch   0 Batch  171/269 - Train Accuracy:  0.470, Validation Accuracy:  0.518, Loss:  1.510\n",
      "Epoch   0 Batch  172/269 - Train Accuracy:  0.471, Validation Accuracy:  0.495, Loss:  1.471\n",
      "Epoch   0 Batch  173/269 - Train Accuracy:  0.455, Validation Accuracy:  0.488, Loss:  1.452\n",
      "Epoch   0 Batch  174/269 - Train Accuracy:  0.473, Validation Accuracy:  0.504, Loss:  1.453\n",
      "Epoch   0 Batch  175/269 - Train Accuracy:  0.462, Validation Accuracy:  0.493, Loss:  1.449\n",
      "Epoch   0 Batch  176/269 - Train Accuracy:  0.433, Validation Accuracy:  0.485, Loss:  1.502\n",
      "Epoch   0 Batch  177/269 - Train Accuracy:  0.490, Validation Accuracy:  0.502, Loss:  1.387\n",
      "Epoch   0 Batch  178/269 - Train Accuracy:  0.464, Validation Accuracy:  0.504, Loss:  1.478\n",
      "Epoch   0 Batch  179/269 - Train Accuracy:  0.460, Validation Accuracy:  0.493, Loss:  1.412\n",
      "Epoch   0 Batch  180/269 - Train Accuracy:  0.474, Validation Accuracy:  0.503, Loss:  1.396\n",
      "Epoch   0 Batch  181/269 - Train Accuracy:  0.472, Validation Accuracy:  0.498, Loss:  1.409\n",
      "Epoch   0 Batch  182/269 - Train Accuracy:  0.461, Validation Accuracy:  0.496, Loss:  1.406\n",
      "Epoch   0 Batch  183/269 - Train Accuracy:  0.541, Validation Accuracy:  0.506, Loss:  1.211\n",
      "Epoch   0 Batch  184/269 - Train Accuracy:  0.451, Validation Accuracy:  0.501, Loss:  1.436\n",
      "Epoch   0 Batch  185/269 - Train Accuracy:  0.485, Validation Accuracy:  0.497, Loss:  1.377\n",
      "Epoch   0 Batch  186/269 - Train Accuracy:  0.433, Validation Accuracy:  0.495, Loss:  1.438\n",
      "Epoch   0 Batch  187/269 - Train Accuracy:  0.480, Validation Accuracy:  0.502, Loss:  1.344\n",
      "Epoch   0 Batch  188/269 - Train Accuracy:  0.469, Validation Accuracy:  0.490, Loss:  1.330\n",
      "Epoch   0 Batch  189/269 - Train Accuracy:  0.469, Validation Accuracy:  0.489, Loss:  1.352\n",
      "Epoch   0 Batch  190/269 - Train Accuracy:  0.490, Validation Accuracy:  0.518, Loss:  1.341\n",
      "Epoch   0 Batch  191/269 - Train Accuracy:  0.480, Validation Accuracy:  0.503, Loss:  1.358\n",
      "Epoch   0 Batch  192/269 - Train Accuracy:  0.486, Validation Accuracy:  0.503, Loss:  1.352\n",
      "Epoch   0 Batch  193/269 - Train Accuracy:  0.497, Validation Accuracy:  0.522, Loss:  1.343\n",
      "Epoch   0 Batch  194/269 - Train Accuracy:  0.489, Validation Accuracy:  0.513, Loss:  1.348\n",
      "Epoch   0 Batch  195/269 - Train Accuracy:  0.458, Validation Accuracy:  0.493, Loss:  1.352\n",
      "Epoch   0 Batch  196/269 - Train Accuracy:  0.478, Validation Accuracy:  0.509, Loss:  1.326\n",
      "Epoch   0 Batch  197/269 - Train Accuracy:  0.428, Validation Accuracy:  0.491, Loss:  1.387\n",
      "Epoch   0 Batch  198/269 - Train Accuracy:  0.448, Validation Accuracy:  0.506, Loss:  1.407\n",
      "Epoch   0 Batch  199/269 - Train Accuracy:  0.474, Validation Accuracy:  0.514, Loss:  1.349\n",
      "Epoch   0 Batch  200/269 - Train Accuracy:  0.444, Validation Accuracy:  0.491, Loss:  1.354\n",
      "Epoch   0 Batch  201/269 - Train Accuracy:  0.475, Validation Accuracy:  0.504, Loss:  1.308\n",
      "Epoch   0 Batch  202/269 - Train Accuracy:  0.497, Validation Accuracy:  0.525, Loss:  1.312\n",
      "Epoch   0 Batch  203/269 - Train Accuracy:  0.470, Validation Accuracy:  0.521, Loss:  1.367\n",
      "Epoch   0 Batch  204/269 - Train Accuracy:  0.440, Validation Accuracy:  0.499, Loss:  1.343\n",
      "Epoch   0 Batch  205/269 - Train Accuracy:  0.488, Validation Accuracy:  0.524, Loss:  1.291\n",
      "Epoch   0 Batch  206/269 - Train Accuracy:  0.461, Validation Accuracy:  0.513, Loss:  1.369\n",
      "Epoch   0 Batch  207/269 - Train Accuracy:  0.504, Validation Accuracy:  0.509, Loss:  1.230\n",
      "Epoch   0 Batch  208/269 - Train Accuracy:  0.475, Validation Accuracy:  0.525, Loss:  1.355\n",
      "Epoch   0 Batch  209/269 - Train Accuracy:  0.466, Validation Accuracy:  0.519, Loss:  1.307\n",
      "Epoch   0 Batch  210/269 - Train Accuracy:  0.482, Validation Accuracy:  0.506, Loss:  1.255\n",
      "Epoch   0 Batch  211/269 - Train Accuracy:  0.497, Validation Accuracy:  0.517, Loss:  1.260\n",
      "Epoch   0 Batch  212/269 - Train Accuracy:  0.501, Validation Accuracy:  0.509, Loss:  1.219\n",
      "Epoch   0 Batch  213/269 - Train Accuracy:  0.469, Validation Accuracy:  0.494, Loss:  1.229\n",
      "Epoch   0 Batch  214/269 - Train Accuracy:  0.496, Validation Accuracy:  0.510, Loss:  1.239\n",
      "Epoch   0 Batch  215/269 - Train Accuracy:  0.520, Validation Accuracy:  0.517, Loss:  1.172\n",
      "Epoch   0 Batch  216/269 - Train Accuracy:  0.451, Validation Accuracy:  0.509, Loss:  1.320\n",
      "Epoch   0 Batch  217/269 - Train Accuracy:  0.432, Validation Accuracy:  0.496, Loss:  1.281\n",
      "Epoch   0 Batch  218/269 - Train Accuracy:  0.503, Validation Accuracy:  0.533, Loss:  1.284\n",
      "Epoch   0 Batch  219/269 - Train Accuracy:  0.473, Validation Accuracy:  0.517, Loss:  1.262\n",
      "Epoch   0 Batch  220/269 - Train Accuracy:  0.502, Validation Accuracy:  0.517, Loss:  1.174\n",
      "Epoch   0 Batch  221/269 - Train Accuracy:  0.514, Validation Accuracy:  0.526, Loss:  1.203\n",
      "Epoch   0 Batch  222/269 - Train Accuracy:  0.500, Validation Accuracy:  0.524, Loss:  1.168\n",
      "Epoch   0 Batch  223/269 - Train Accuracy:  0.517, Validation Accuracy:  0.531, Loss:  1.163\n",
      "Epoch   0 Batch  224/269 - Train Accuracy:  0.537, Validation Accuracy:  0.536, Loss:  1.215\n",
      "Epoch   0 Batch  225/269 - Train Accuracy:  0.494, Validation Accuracy:  0.527, Loss:  1.235\n",
      "Epoch   0 Batch  226/269 - Train Accuracy:  0.473, Validation Accuracy:  0.501, Loss:  1.186\n",
      "Epoch   0 Batch  227/269 - Train Accuracy:  0.580, Validation Accuracy:  0.535, Loss:  1.043\n",
      "Epoch   0 Batch  228/269 - Train Accuracy:  0.516, Validation Accuracy:  0.542, Loss:  1.187\n",
      "Epoch   0 Batch  229/269 - Train Accuracy:  0.524, Validation Accuracy:  0.540, Loss:  1.176\n",
      "Epoch   0 Batch  230/269 - Train Accuracy:  0.505, Validation Accuracy:  0.535, Loss:  1.179\n",
      "Epoch   0 Batch  231/269 - Train Accuracy:  0.450, Validation Accuracy:  0.500, Loss:  1.230\n",
      "Epoch   0 Batch  232/269 - Train Accuracy:  0.482, Validation Accuracy:  0.529, Loss:  1.217\n",
      "Epoch   0 Batch  233/269 - Train Accuracy:  0.521, Validation Accuracy:  0.535, Loss:  1.172\n",
      "Epoch   0 Batch  234/269 - Train Accuracy:  0.507, Validation Accuracy:  0.534, Loss:  1.164\n",
      "Epoch   0 Batch  235/269 - Train Accuracy:  0.513, Validation Accuracy:  0.535, Loss:  1.154\n",
      "Epoch   0 Batch  236/269 - Train Accuracy:  0.511, Validation Accuracy:  0.544, Loss:  1.149\n",
      "Epoch   0 Batch  237/269 - Train Accuracy:  0.506, Validation Accuracy:  0.539, Loss:  1.148\n",
      "Epoch   0 Batch  238/269 - Train Accuracy:  0.531, Validation Accuracy:  0.551, Loss:  1.136\n",
      "Epoch   0 Batch  239/269 - Train Accuracy:  0.551, Validation Accuracy:  0.556, Loss:  1.131\n",
      "Epoch   0 Batch  240/269 - Train Accuracy:  0.561, Validation Accuracy:  0.552, Loss:  1.062\n",
      "Epoch   0 Batch  241/269 - Train Accuracy:  0.504, Validation Accuracy:  0.529, Loss:  1.125\n",
      "Epoch   0 Batch  242/269 - Train Accuracy:  0.532, Validation Accuracy:  0.555, Loss:  1.129\n",
      "Epoch   0 Batch  243/269 - Train Accuracy:  0.551, Validation Accuracy:  0.556, Loss:  1.087\n",
      "Epoch   0 Batch  244/269 - Train Accuracy:  0.518, Validation Accuracy:  0.543, Loss:  1.105\n",
      "Epoch   0 Batch  245/269 - Train Accuracy:  0.519, Validation Accuracy:  0.556, Loss:  1.173\n",
      "Epoch   0 Batch  246/269 - Train Accuracy:  0.535, Validation Accuracy:  0.559, Loss:  1.114\n",
      "Epoch   0 Batch  247/269 - Train Accuracy:  0.490, Validation Accuracy:  0.538, Loss:  1.152\n",
      "Epoch   0 Batch  248/269 - Train Accuracy:  0.524, Validation Accuracy:  0.554, Loss:  1.099\n",
      "Epoch   0 Batch  249/269 - Train Accuracy:  0.559, Validation Accuracy:  0.557, Loss:  1.050\n",
      "Epoch   0 Batch  250/269 - Train Accuracy:  0.507, Validation Accuracy:  0.549, Loss:  1.130\n",
      "Epoch   0 Batch  251/269 - Train Accuracy:  0.529, Validation Accuracy:  0.545, Loss:  1.075\n",
      "Epoch   0 Batch  252/269 - Train Accuracy:  0.535, Validation Accuracy:  0.555, Loss:  1.100\n",
      "Epoch   0 Batch  253/269 - Train Accuracy:  0.523, Validation Accuracy:  0.550, Loss:  1.090\n",
      "Epoch   0 Batch  254/269 - Train Accuracy:  0.535, Validation Accuracy:  0.548, Loss:  1.065\n",
      "Epoch   0 Batch  255/269 - Train Accuracy:  0.567, Validation Accuracy:  0.560, Loss:  1.036\n",
      "Epoch   0 Batch  256/269 - Train Accuracy:  0.518, Validation Accuracy:  0.564, Loss:  1.084\n",
      "Epoch   0 Batch  257/269 - Train Accuracy:  0.524, Validation Accuracy:  0.562, Loss:  1.079\n",
      "Epoch   0 Batch  258/269 - Train Accuracy:  0.530, Validation Accuracy:  0.569, Loss:  1.071\n",
      "Epoch   0 Batch  259/269 - Train Accuracy:  0.558, Validation Accuracy:  0.568, Loss:  1.057\n",
      "Epoch   0 Batch  260/269 - Train Accuracy:  0.526, Validation Accuracy:  0.566, Loss:  1.109\n",
      "Epoch   0 Batch  261/269 - Train Accuracy:  0.502, Validation Accuracy:  0.565, Loss:  1.125\n",
      "Epoch   0 Batch  262/269 - Train Accuracy:  0.546, Validation Accuracy:  0.566, Loss:  1.061\n",
      "Epoch   0 Batch  263/269 - Train Accuracy:  0.534, Validation Accuracy:  0.562, Loss:  1.089\n",
      "Epoch   0 Batch  264/269 - Train Accuracy:  0.518, Validation Accuracy:  0.560, Loss:  1.096\n",
      "Epoch   0 Batch  265/269 - Train Accuracy:  0.530, Validation Accuracy:  0.566, Loss:  1.071\n",
      "Epoch   0 Batch  266/269 - Train Accuracy:  0.550, Validation Accuracy:  0.569, Loss:  1.022\n",
      "Epoch   0 Batch  267/269 - Train Accuracy:  0.542, Validation Accuracy:  0.569, Loss:  1.053\n",
      "Epoch   1 Batch    0/269 - Train Accuracy:  0.538, Validation Accuracy:  0.566, Loss:  1.088\n",
      "Epoch   1 Batch    1/269 - Train Accuracy:  0.514, Validation Accuracy:  0.566, Loss:  1.057\n",
      "Epoch   1 Batch    2/269 - Train Accuracy:  0.521, Validation Accuracy:  0.567, Loss:  1.040\n",
      "Epoch   1 Batch    3/269 - Train Accuracy:  0.529, Validation Accuracy:  0.568, Loss:  1.056\n",
      "Epoch   1 Batch    4/269 - Train Accuracy:  0.526, Validation Accuracy:  0.568, Loss:  1.056\n",
      "Epoch   1 Batch    5/269 - Train Accuracy:  0.516, Validation Accuracy:  0.567, Loss:  1.065\n",
      "Epoch   1 Batch    6/269 - Train Accuracy:  0.561, Validation Accuracy:  0.567, Loss:  0.974\n",
      "Epoch   1 Batch    7/269 - Train Accuracy:  0.548, Validation Accuracy:  0.566, Loss:  0.996\n",
      "Epoch   1 Batch    8/269 - Train Accuracy:  0.518, Validation Accuracy:  0.565, Loss:  1.055\n",
      "Epoch   1 Batch    9/269 - Train Accuracy:  0.533, Validation Accuracy:  0.565, Loss:  1.019\n",
      "Epoch   1 Batch   10/269 - Train Accuracy:  0.532, Validation Accuracy:  0.568, Loss:  1.030\n",
      "Epoch   1 Batch   11/269 - Train Accuracy:  0.546, Validation Accuracy:  0.570, Loss:  1.012\n",
      "Epoch   1 Batch   12/269 - Train Accuracy:  0.517, Validation Accuracy:  0.566, Loss:  1.040\n",
      "Epoch   1 Batch   13/269 - Train Accuracy:  0.567, Validation Accuracy:  0.567, Loss:  0.932\n",
      "Epoch   1 Batch   14/269 - Train Accuracy:  0.542, Validation Accuracy:  0.568, Loss:  0.986\n",
      "Epoch   1 Batch   15/269 - Train Accuracy:  0.540, Validation Accuracy:  0.571, Loss:  0.985\n",
      "Epoch   1 Batch   16/269 - Train Accuracy:  0.562, Validation Accuracy:  0.574, Loss:  0.987\n",
      "Epoch   1 Batch   17/269 - Train Accuracy:  0.546, Validation Accuracy:  0.576, Loss:  0.962\n",
      "Epoch   1 Batch   18/269 - Train Accuracy:  0.536, Validation Accuracy:  0.577, Loss:  1.006\n",
      "Epoch   1 Batch   19/269 - Train Accuracy:  0.565, Validation Accuracy:  0.573, Loss:  0.919\n",
      "Epoch   1 Batch   20/269 - Train Accuracy:  0.538, Validation Accuracy:  0.574, Loss:  1.000\n",
      "Epoch   1 Batch   21/269 - Train Accuracy:  0.533, Validation Accuracy:  0.573, Loss:  1.028\n",
      "Epoch   1 Batch   22/269 - Train Accuracy:  0.553, Validation Accuracy:  0.577, Loss:  0.951\n",
      "Epoch   1 Batch   23/269 - Train Accuracy:  0.549, Validation Accuracy:  0.575, Loss:  0.968\n",
      "Epoch   1 Batch   24/269 - Train Accuracy:  0.535, Validation Accuracy:  0.575, Loss:  0.999\n",
      "Epoch   1 Batch   25/269 - Train Accuracy:  0.532, Validation Accuracy:  0.567, Loss:  1.014\n",
      "Epoch   1 Batch   26/269 - Train Accuracy:  0.579, Validation Accuracy:  0.570, Loss:  0.898\n",
      "Epoch   1 Batch   27/269 - Train Accuracy:  0.543, Validation Accuracy:  0.574, Loss:  0.953\n",
      "Epoch   1 Batch   28/269 - Train Accuracy:  0.517, Validation Accuracy:  0.575, Loss:  1.017\n",
      "Epoch   1 Batch   29/269 - Train Accuracy:  0.531, Validation Accuracy:  0.577, Loss:  0.981\n",
      "Epoch   1 Batch   30/269 - Train Accuracy:  0.558, Validation Accuracy:  0.578, Loss:  0.938\n",
      "Epoch   1 Batch   31/269 - Train Accuracy:  0.562, Validation Accuracy:  0.574, Loss:  0.927\n",
      "Epoch   1 Batch   32/269 - Train Accuracy:  0.543, Validation Accuracy:  0.576, Loss:  0.936\n",
      "Epoch   1 Batch   33/269 - Train Accuracy:  0.557, Validation Accuracy:  0.570, Loss:  0.914\n",
      "Epoch   1 Batch   34/269 - Train Accuracy:  0.547, Validation Accuracy:  0.572, Loss:  0.931\n",
      "Epoch   1 Batch   35/269 - Train Accuracy:  0.568, Validation Accuracy:  0.575, Loss:  0.939\n",
      "Epoch   1 Batch   36/269 - Train Accuracy:  0.558, Validation Accuracy:  0.579, Loss:  0.939\n",
      "Epoch   1 Batch   37/269 - Train Accuracy:  0.561, Validation Accuracy:  0.578, Loss:  0.928\n",
      "Epoch   1 Batch   38/269 - Train Accuracy:  0.542, Validation Accuracy:  0.569, Loss:  0.934\n",
      "Epoch   1 Batch   39/269 - Train Accuracy:  0.557, Validation Accuracy:  0.577, Loss:  0.917\n",
      "Epoch   1 Batch   40/269 - Train Accuracy:  0.538, Validation Accuracy:  0.577, Loss:  0.957\n",
      "Epoch   1 Batch   41/269 - Train Accuracy:  0.556, Validation Accuracy:  0.578, Loss:  0.932\n",
      "Epoch   1 Batch   42/269 - Train Accuracy:  0.565, Validation Accuracy:  0.568, Loss:  0.876\n",
      "Epoch   1 Batch   43/269 - Train Accuracy:  0.533, Validation Accuracy:  0.569, Loss:  0.954\n",
      "Epoch   1 Batch   44/269 - Train Accuracy:  0.568, Validation Accuracy:  0.576, Loss:  0.920\n",
      "Epoch   1 Batch   45/269 - Train Accuracy:  0.532, Validation Accuracy:  0.572, Loss:  0.964\n",
      "Epoch   1 Batch   46/269 - Train Accuracy:  0.534, Validation Accuracy:  0.570, Loss:  0.942\n",
      "Epoch   1 Batch   47/269 - Train Accuracy:  0.582, Validation Accuracy:  0.580, Loss:  0.855\n",
      "Epoch   1 Batch   48/269 - Train Accuracy:  0.562, Validation Accuracy:  0.581, Loss:  0.882\n",
      "Epoch   1 Batch   49/269 - Train Accuracy:  0.527, Validation Accuracy:  0.569, Loss:  0.932\n",
      "Epoch   1 Batch   50/269 - Train Accuracy:  0.528, Validation Accuracy:  0.570, Loss:  0.948\n",
      "Epoch   1 Batch   51/269 - Train Accuracy:  0.543, Validation Accuracy:  0.575, Loss:  0.914\n",
      "Epoch   1 Batch   52/269 - Train Accuracy:  0.549, Validation Accuracy:  0.578, Loss:  0.870\n",
      "Epoch   1 Batch   53/269 - Train Accuracy:  0.541, Validation Accuracy:  0.578, Loss:  0.941\n",
      "Epoch   1 Batch   54/269 - Train Accuracy:  0.549, Validation Accuracy:  0.578, Loss:  0.926\n",
      "Epoch   1 Batch   55/269 - Train Accuracy:  0.558, Validation Accuracy:  0.577, Loss:  0.886\n",
      "Epoch   1 Batch   56/269 - Train Accuracy:  0.565, Validation Accuracy:  0.579, Loss:  0.894\n",
      "Epoch   1 Batch   57/269 - Train Accuracy:  0.560, Validation Accuracy:  0.579, Loss:  0.902\n",
      "Epoch   1 Batch   58/269 - Train Accuracy:  0.568, Validation Accuracy:  0.580, Loss:  0.879\n",
      "Epoch   1 Batch   59/269 - Train Accuracy:  0.570, Validation Accuracy:  0.576, Loss:  0.862\n",
      "Epoch   1 Batch   60/269 - Train Accuracy:  0.558, Validation Accuracy:  0.574, Loss:  0.848\n",
      "Epoch   1 Batch   61/269 - Train Accuracy:  0.572, Validation Accuracy:  0.569, Loss:  0.829\n",
      "Epoch   1 Batch   62/269 - Train Accuracy:  0.571, Validation Accuracy:  0.575, Loss:  0.849\n",
      "Epoch   1 Batch   63/269 - Train Accuracy:  0.551, Validation Accuracy:  0.580, Loss:  0.879\n",
      "Epoch   1 Batch   64/269 - Train Accuracy:  0.556, Validation Accuracy:  0.581, Loss:  0.870\n",
      "Epoch   1 Batch   65/269 - Train Accuracy:  0.564, Validation Accuracy:  0.582, Loss:  0.853\n",
      "Epoch   1 Batch   66/269 - Train Accuracy:  0.570, Validation Accuracy:  0.586, Loss:  0.839\n",
      "Epoch   1 Batch   67/269 - Train Accuracy:  0.555, Validation Accuracy:  0.584, Loss:  0.880\n",
      "Epoch   1 Batch   68/269 - Train Accuracy:  0.551, Validation Accuracy:  0.579, Loss:  0.871\n",
      "Epoch   1 Batch   69/269 - Train Accuracy:  0.535, Validation Accuracy:  0.578, Loss:  0.941\n",
      "Epoch   1 Batch   70/269 - Train Accuracy:  0.583, Validation Accuracy:  0.585, Loss:  0.870\n",
      "Epoch   1 Batch   71/269 - Train Accuracy:  0.550, Validation Accuracy:  0.588, Loss:  0.900\n",
      "Epoch   1 Batch   72/269 - Train Accuracy:  0.576, Validation Accuracy:  0.576, Loss:  0.846\n",
      "Epoch   1 Batch   73/269 - Train Accuracy:  0.557, Validation Accuracy:  0.585, Loss:  0.874\n",
      "Epoch   1 Batch   74/269 - Train Accuracy:  0.561, Validation Accuracy:  0.591, Loss:  0.869\n",
      "Epoch   1 Batch   75/269 - Train Accuracy:  0.567, Validation Accuracy:  0.592, Loss:  0.842\n",
      "Epoch   1 Batch   76/269 - Train Accuracy:  0.565, Validation Accuracy:  0.593, Loss:  0.872\n",
      "Epoch   1 Batch   77/269 - Train Accuracy:  0.590, Validation Accuracy:  0.592, Loss:  0.843\n",
      "Epoch   1 Batch   78/269 - Train Accuracy:  0.574, Validation Accuracy:  0.594, Loss:  0.845\n",
      "Epoch   1 Batch   79/269 - Train Accuracy:  0.573, Validation Accuracy:  0.593, Loss:  0.841\n",
      "Epoch   1 Batch   80/269 - Train Accuracy:  0.598, Validation Accuracy:  0.592, Loss:  0.829\n",
      "Epoch   1 Batch   81/269 - Train Accuracy:  0.577, Validation Accuracy:  0.595, Loss:  0.858\n",
      "Epoch   1 Batch   82/269 - Train Accuracy:  0.583, Validation Accuracy:  0.594, Loss:  0.811\n",
      "Epoch   1 Batch   83/269 - Train Accuracy:  0.583, Validation Accuracy:  0.591, Loss:  0.830\n",
      "Epoch   1 Batch   84/269 - Train Accuracy:  0.585, Validation Accuracy:  0.593, Loss:  0.819\n",
      "Epoch   1 Batch   85/269 - Train Accuracy:  0.576, Validation Accuracy:  0.597, Loss:  0.836\n",
      "Epoch   1 Batch   86/269 - Train Accuracy:  0.561, Validation Accuracy:  0.593, Loss:  0.832\n",
      "Epoch   1 Batch   87/269 - Train Accuracy:  0.545, Validation Accuracy:  0.589, Loss:  0.889\n",
      "Epoch   1 Batch   88/269 - Train Accuracy:  0.584, Validation Accuracy:  0.597, Loss:  0.831\n",
      "Epoch   1 Batch   89/269 - Train Accuracy:  0.592, Validation Accuracy:  0.597, Loss:  0.821\n",
      "Epoch   1 Batch   90/269 - Train Accuracy:  0.535, Validation Accuracy:  0.593, Loss:  0.883\n",
      "Epoch   1 Batch   91/269 - Train Accuracy:  0.575, Validation Accuracy:  0.593, Loss:  0.804\n",
      "Epoch   1 Batch   92/269 - Train Accuracy:  0.586, Validation Accuracy:  0.598, Loss:  0.819\n",
      "Epoch   1 Batch   93/269 - Train Accuracy:  0.593, Validation Accuracy:  0.591, Loss:  0.785\n",
      "Epoch   1 Batch   94/269 - Train Accuracy:  0.576, Validation Accuracy:  0.594, Loss:  0.837\n",
      "Epoch   1 Batch   95/269 - Train Accuracy:  0.590, Validation Accuracy:  0.596, Loss:  0.821\n",
      "Epoch   1 Batch   96/269 - Train Accuracy:  0.596, Validation Accuracy:  0.607, Loss:  0.810\n",
      "Epoch   1 Batch   97/269 - Train Accuracy:  0.581, Validation Accuracy:  0.608, Loss:  0.824\n",
      "Epoch   1 Batch   98/269 - Train Accuracy:  0.600, Validation Accuracy:  0.607, Loss:  0.799\n",
      "Epoch   1 Batch   99/269 - Train Accuracy:  0.578, Validation Accuracy:  0.606, Loss:  0.844\n",
      "Epoch   1 Batch  100/269 - Train Accuracy:  0.602, Validation Accuracy:  0.602, Loss:  0.800\n",
      "Epoch   1 Batch  101/269 - Train Accuracy:  0.550, Validation Accuracy:  0.595, Loss:  0.849\n",
      "Epoch   1 Batch  102/269 - Train Accuracy:  0.584, Validation Accuracy:  0.595, Loss:  0.801\n",
      "Epoch   1 Batch  103/269 - Train Accuracy:  0.590, Validation Accuracy:  0.604, Loss:  0.802\n",
      "Epoch   1 Batch  104/269 - Train Accuracy:  0.582, Validation Accuracy:  0.604, Loss:  0.805\n",
      "Epoch   1 Batch  105/269 - Train Accuracy:  0.578, Validation Accuracy:  0.602, Loss:  0.813\n",
      "Epoch   1 Batch  106/269 - Train Accuracy:  0.586, Validation Accuracy:  0.597, Loss:  0.796\n",
      "Epoch   1 Batch  107/269 - Train Accuracy:  0.578, Validation Accuracy:  0.611, Loss:  0.842\n",
      "Epoch   1 Batch  108/269 - Train Accuracy:  0.598, Validation Accuracy:  0.612, Loss:  0.792\n",
      "Epoch   1 Batch  109/269 - Train Accuracy:  0.574, Validation Accuracy:  0.610, Loss:  0.807\n",
      "Epoch   1 Batch  110/269 - Train Accuracy:  0.590, Validation Accuracy:  0.604, Loss:  0.786\n",
      "Epoch   1 Batch  111/269 - Train Accuracy:  0.563, Validation Accuracy:  0.608, Loss:  0.848\n",
      "Epoch   1 Batch  112/269 - Train Accuracy:  0.602, Validation Accuracy:  0.607, Loss:  0.789\n",
      "Epoch   1 Batch  113/269 - Train Accuracy:  0.606, Validation Accuracy:  0.609, Loss:  0.760\n",
      "Epoch   1 Batch  114/269 - Train Accuracy:  0.589, Validation Accuracy:  0.605, Loss:  0.788\n",
      "Epoch   1 Batch  115/269 - Train Accuracy:  0.580, Validation Accuracy:  0.606, Loss:  0.812\n",
      "Epoch   1 Batch  116/269 - Train Accuracy:  0.592, Validation Accuracy:  0.607, Loss:  0.794\n",
      "Epoch   1 Batch  117/269 - Train Accuracy:  0.589, Validation Accuracy:  0.607, Loss:  0.788\n",
      "Epoch   1 Batch  118/269 - Train Accuracy:  0.622, Validation Accuracy:  0.612, Loss:  0.762\n",
      "Epoch   1 Batch  119/269 - Train Accuracy:  0.592, Validation Accuracy:  0.613, Loss:  0.822\n",
      "Epoch   1 Batch  120/269 - Train Accuracy:  0.588, Validation Accuracy:  0.610, Loss:  0.804\n",
      "Epoch   1 Batch  121/269 - Train Accuracy:  0.601, Validation Accuracy:  0.612, Loss:  0.765\n",
      "Epoch   1 Batch  122/269 - Train Accuracy:  0.610, Validation Accuracy:  0.613, Loss:  0.769\n",
      "Epoch   1 Batch  123/269 - Train Accuracy:  0.585, Validation Accuracy:  0.618, Loss:  0.809\n",
      "Epoch   1 Batch  124/269 - Train Accuracy:  0.601, Validation Accuracy:  0.618, Loss:  0.756\n",
      "Epoch   1 Batch  125/269 - Train Accuracy:  0.603, Validation Accuracy:  0.618, Loss:  0.754\n",
      "Epoch   1 Batch  126/269 - Train Accuracy:  0.603, Validation Accuracy:  0.616, Loss:  0.756\n",
      "Epoch   1 Batch  127/269 - Train Accuracy:  0.591, Validation Accuracy:  0.616, Loss:  0.800\n",
      "Epoch   1 Batch  128/269 - Train Accuracy:  0.615, Validation Accuracy:  0.614, Loss:  0.767\n",
      "Epoch   1 Batch  129/269 - Train Accuracy:  0.599, Validation Accuracy:  0.614, Loss:  0.777\n",
      "Epoch   1 Batch  130/269 - Train Accuracy:  0.575, Validation Accuracy:  0.614, Loss:  0.808\n",
      "Epoch   1 Batch  131/269 - Train Accuracy:  0.590, Validation Accuracy:  0.618, Loss:  0.791\n",
      "Epoch   1 Batch  132/269 - Train Accuracy:  0.597, Validation Accuracy:  0.617, Loss:  0.770\n",
      "Epoch   1 Batch  133/269 - Train Accuracy:  0.603, Validation Accuracy:  0.616, Loss:  0.743\n",
      "Epoch   1 Batch  134/269 - Train Accuracy:  0.584, Validation Accuracy:  0.613, Loss:  0.783\n",
      "Epoch   1 Batch  135/269 - Train Accuracy:  0.578, Validation Accuracy:  0.614, Loss:  0.814\n",
      "Epoch   1 Batch  136/269 - Train Accuracy:  0.577, Validation Accuracy:  0.613, Loss:  0.811\n",
      "Epoch   1 Batch  137/269 - Train Accuracy:  0.592, Validation Accuracy:  0.613, Loss:  0.798\n",
      "Epoch   1 Batch  138/269 - Train Accuracy:  0.591, Validation Accuracy:  0.615, Loss:  0.778\n",
      "Epoch   1 Batch  139/269 - Train Accuracy:  0.622, Validation Accuracy:  0.613, Loss:  0.743\n",
      "Epoch   1 Batch  140/269 - Train Accuracy:  0.611, Validation Accuracy:  0.613, Loss:  0.764\n",
      "Epoch   1 Batch  141/269 - Train Accuracy:  0.609, Validation Accuracy:  0.615, Loss:  0.774\n",
      "Epoch   1 Batch  142/269 - Train Accuracy:  0.606, Validation Accuracy:  0.616, Loss:  0.740\n",
      "Epoch   1 Batch  143/269 - Train Accuracy:  0.607, Validation Accuracy:  0.613, Loss:  0.746\n",
      "Epoch   1 Batch  144/269 - Train Accuracy:  0.612, Validation Accuracy:  0.612, Loss:  0.726\n",
      "Epoch   1 Batch  145/269 - Train Accuracy:  0.608, Validation Accuracy:  0.617, Loss:  0.747\n",
      "Epoch   1 Batch  146/269 - Train Accuracy:  0.611, Validation Accuracy:  0.616, Loss:  0.732\n",
      "Epoch   1 Batch  147/269 - Train Accuracy:  0.622, Validation Accuracy:  0.618, Loss:  0.711\n",
      "Epoch   1 Batch  148/269 - Train Accuracy:  0.600, Validation Accuracy:  0.613, Loss:  0.757\n",
      "Epoch   1 Batch  149/269 - Train Accuracy:  0.611, Validation Accuracy:  0.611, Loss:  0.746\n",
      "Epoch   1 Batch  150/269 - Train Accuracy:  0.606, Validation Accuracy:  0.614, Loss:  0.755\n"
     ]
    },
    {
     "ename": "KeyboardInterrupt",
     "evalue": "",
     "output_type": "error",
     "traceback": [
      "\u001b[0;31m---------------------------------------------------------------------------\u001b[0m",
      "\u001b[0;31mKeyboardInterrupt\u001b[0m                         Traceback (most recent call last)",
      "\u001b[0;32m<ipython-input-16-29c4deffcdd2>\u001b[0m in \u001b[0;36m<module>\u001b[0;34m()\u001b[0m\n\u001b[1;32m     49\u001b[0m             batch_valid_logits = sess.run(\n\u001b[1;32m     50\u001b[0m                 \u001b[0minference_logits\u001b[0m\u001b[0;34m,\u001b[0m\u001b[0;34m\u001b[0m\u001b[0m\n\u001b[0;32m---> 51\u001b[0;31m                 {input_data: valid_source, keep_prob: 1.0})\n\u001b[0m\u001b[1;32m     52\u001b[0m \u001b[0;34m\u001b[0m\u001b[0m\n\u001b[1;32m     53\u001b[0m             \u001b[0mtrain_acc\u001b[0m \u001b[0;34m=\u001b[0m \u001b[0mget_accuracy\u001b[0m\u001b[0;34m(\u001b[0m\u001b[0mtarget_batch\u001b[0m\u001b[0;34m,\u001b[0m \u001b[0mbatch_train_logits\u001b[0m\u001b[0;34m)\u001b[0m\u001b[0;34m\u001b[0m\u001b[0m\n",
      "\u001b[0;32m/Users/nikhil/anaconda3/envs/dlnd-tf-lab/lib/python3.5/site-packages/tensorflow/python/client/session.py\u001b[0m in \u001b[0;36mrun\u001b[0;34m(self, fetches, feed_dict, options, run_metadata)\u001b[0m\n\u001b[1;32m    765\u001b[0m     \u001b[0;32mtry\u001b[0m\u001b[0;34m:\u001b[0m\u001b[0;34m\u001b[0m\u001b[0m\n\u001b[1;32m    766\u001b[0m       result = self._run(None, fetches, feed_dict, options_ptr,\n\u001b[0;32m--> 767\u001b[0;31m                          run_metadata_ptr)\n\u001b[0m\u001b[1;32m    768\u001b[0m       \u001b[0;32mif\u001b[0m \u001b[0mrun_metadata\u001b[0m\u001b[0;34m:\u001b[0m\u001b[0;34m\u001b[0m\u001b[0m\n\u001b[1;32m    769\u001b[0m         \u001b[0mproto_data\u001b[0m \u001b[0;34m=\u001b[0m \u001b[0mtf_session\u001b[0m\u001b[0;34m.\u001b[0m\u001b[0mTF_GetBuffer\u001b[0m\u001b[0;34m(\u001b[0m\u001b[0mrun_metadata_ptr\u001b[0m\u001b[0;34m)\u001b[0m\u001b[0;34m\u001b[0m\u001b[0m\n",
      "\u001b[0;32m/Users/nikhil/anaconda3/envs/dlnd-tf-lab/lib/python3.5/site-packages/tensorflow/python/client/session.py\u001b[0m in \u001b[0;36m_run\u001b[0;34m(self, handle, fetches, feed_dict, options, run_metadata)\u001b[0m\n\u001b[1;32m    963\u001b[0m     \u001b[0;32mif\u001b[0m \u001b[0mfinal_fetches\u001b[0m \u001b[0;32mor\u001b[0m \u001b[0mfinal_targets\u001b[0m\u001b[0;34m:\u001b[0m\u001b[0;34m\u001b[0m\u001b[0m\n\u001b[1;32m    964\u001b[0m       results = self._do_run(handle, final_targets, final_fetches,\n\u001b[0;32m--> 965\u001b[0;31m                              feed_dict_string, options, run_metadata)\n\u001b[0m\u001b[1;32m    966\u001b[0m     \u001b[0;32melse\u001b[0m\u001b[0;34m:\u001b[0m\u001b[0;34m\u001b[0m\u001b[0m\n\u001b[1;32m    967\u001b[0m       \u001b[0mresults\u001b[0m \u001b[0;34m=\u001b[0m \u001b[0;34m[\u001b[0m\u001b[0;34m]\u001b[0m\u001b[0;34m\u001b[0m\u001b[0m\n",
      "\u001b[0;32m/Users/nikhil/anaconda3/envs/dlnd-tf-lab/lib/python3.5/site-packages/tensorflow/python/client/session.py\u001b[0m in \u001b[0;36m_do_run\u001b[0;34m(self, handle, target_list, fetch_list, feed_dict, options, run_metadata)\u001b[0m\n\u001b[1;32m   1013\u001b[0m     \u001b[0;32mif\u001b[0m \u001b[0mhandle\u001b[0m \u001b[0;32mis\u001b[0m \u001b[0;32mNone\u001b[0m\u001b[0;34m:\u001b[0m\u001b[0;34m\u001b[0m\u001b[0m\n\u001b[1;32m   1014\u001b[0m       return self._do_call(_run_fn, self._session, feed_dict, fetch_list,\n\u001b[0;32m-> 1015\u001b[0;31m                            target_list, options, run_metadata)\n\u001b[0m\u001b[1;32m   1016\u001b[0m     \u001b[0;32melse\u001b[0m\u001b[0;34m:\u001b[0m\u001b[0;34m\u001b[0m\u001b[0m\n\u001b[1;32m   1017\u001b[0m       return self._do_call(_prun_fn, self._session, handle, feed_dict,\n",
      "\u001b[0;32m/Users/nikhil/anaconda3/envs/dlnd-tf-lab/lib/python3.5/site-packages/tensorflow/python/client/session.py\u001b[0m in \u001b[0;36m_do_call\u001b[0;34m(self, fn, *args)\u001b[0m\n\u001b[1;32m   1020\u001b[0m   \u001b[0;32mdef\u001b[0m \u001b[0m_do_call\u001b[0m\u001b[0;34m(\u001b[0m\u001b[0mself\u001b[0m\u001b[0;34m,\u001b[0m \u001b[0mfn\u001b[0m\u001b[0;34m,\u001b[0m \u001b[0;34m*\u001b[0m\u001b[0margs\u001b[0m\u001b[0;34m)\u001b[0m\u001b[0;34m:\u001b[0m\u001b[0;34m\u001b[0m\u001b[0m\n\u001b[1;32m   1021\u001b[0m     \u001b[0;32mtry\u001b[0m\u001b[0;34m:\u001b[0m\u001b[0;34m\u001b[0m\u001b[0m\n\u001b[0;32m-> 1022\u001b[0;31m       \u001b[0;32mreturn\u001b[0m \u001b[0mfn\u001b[0m\u001b[0;34m(\u001b[0m\u001b[0;34m*\u001b[0m\u001b[0margs\u001b[0m\u001b[0;34m)\u001b[0m\u001b[0;34m\u001b[0m\u001b[0m\n\u001b[0m\u001b[1;32m   1023\u001b[0m     \u001b[0;32mexcept\u001b[0m \u001b[0merrors\u001b[0m\u001b[0;34m.\u001b[0m\u001b[0mOpError\u001b[0m \u001b[0;32mas\u001b[0m \u001b[0me\u001b[0m\u001b[0;34m:\u001b[0m\u001b[0;34m\u001b[0m\u001b[0m\n\u001b[1;32m   1024\u001b[0m       \u001b[0mmessage\u001b[0m \u001b[0;34m=\u001b[0m \u001b[0mcompat\u001b[0m\u001b[0;34m.\u001b[0m\u001b[0mas_text\u001b[0m\u001b[0;34m(\u001b[0m\u001b[0me\u001b[0m\u001b[0;34m.\u001b[0m\u001b[0mmessage\u001b[0m\u001b[0;34m)\u001b[0m\u001b[0;34m\u001b[0m\u001b[0m\n",
      "\u001b[0;32m/Users/nikhil/anaconda3/envs/dlnd-tf-lab/lib/python3.5/site-packages/tensorflow/python/client/session.py\u001b[0m in \u001b[0;36m_run_fn\u001b[0;34m(session, feed_dict, fetch_list, target_list, options, run_metadata)\u001b[0m\n\u001b[1;32m   1002\u001b[0m         return tf_session.TF_Run(session, options,\n\u001b[1;32m   1003\u001b[0m                                  \u001b[0mfeed_dict\u001b[0m\u001b[0;34m,\u001b[0m \u001b[0mfetch_list\u001b[0m\u001b[0;34m,\u001b[0m \u001b[0mtarget_list\u001b[0m\u001b[0;34m,\u001b[0m\u001b[0;34m\u001b[0m\u001b[0m\n\u001b[0;32m-> 1004\u001b[0;31m                                  status, run_metadata)\n\u001b[0m\u001b[1;32m   1005\u001b[0m \u001b[0;34m\u001b[0m\u001b[0m\n\u001b[1;32m   1006\u001b[0m     \u001b[0;32mdef\u001b[0m \u001b[0m_prun_fn\u001b[0m\u001b[0;34m(\u001b[0m\u001b[0msession\u001b[0m\u001b[0;34m,\u001b[0m \u001b[0mhandle\u001b[0m\u001b[0;34m,\u001b[0m \u001b[0mfeed_dict\u001b[0m\u001b[0;34m,\u001b[0m \u001b[0mfetch_list\u001b[0m\u001b[0;34m)\u001b[0m\u001b[0;34m:\u001b[0m\u001b[0;34m\u001b[0m\u001b[0m\n",
      "\u001b[0;31mKeyboardInterrupt\u001b[0m: "
     ]
    }
   ],
   "source": [
    "\"\"\"\n",
    "DON'T MODIFY ANYTHING IN THIS CELL\n",
    "\"\"\"\n",
    "import time\n",
    "\n",
    "def get_accuracy(target, logits):\n",
    "    \"\"\"\n",
    "    Calculate accuracy\n",
    "    \"\"\"\n",
    "    max_seq = max(target.shape[1], logits.shape[1])\n",
    "    if max_seq - target.shape[1]:\n",
    "        target = np.pad(\n",
    "            target_batch,\n",
    "            [(0,0),(0,max_seq - target_batch.shape[1]), (0,0)],\n",
    "            'constant')\n",
    "    if max_seq - batch_train_logits.shape[1]:\n",
    "        logits = np.pad(\n",
    "            logits,\n",
    "            [(0,0),(0,max_seq - logits.shape[1]), (0,0)],\n",
    "            'constant')\n",
    "\n",
    "    return np.mean(np.equal(target, np.argmax(logits, 2)))\n",
    "\n",
    "train_source = source_int_text[batch_size:]\n",
    "train_target = target_int_text[batch_size:]\n",
    "\n",
    "valid_source = helper.pad_sentence_batch(source_int_text[:batch_size])\n",
    "valid_target = helper.pad_sentence_batch(target_int_text[:batch_size])\n",
    "\n",
    "with tf.Session(graph=train_graph) as sess:\n",
    "    sess.run(tf.global_variables_initializer())\n",
    "\n",
    "    for epoch_i in range(epochs):\n",
    "        for batch_i, (source_batch, target_batch) in enumerate(\n",
    "                helper.batch_data(train_source, train_target, batch_size)):\n",
    "            start_time = time.time()\n",
    "            \n",
    "            _, loss = sess.run(\n",
    "                [train_op, cost],\n",
    "                {input_data: source_batch,\n",
    "                 targets: target_batch,\n",
    "                 lr: learning_rate,\n",
    "                 sequence_length: target_batch.shape[1],\n",
    "                 keep_prob: keep_probability})\n",
    "            \n",
    "            batch_train_logits = sess.run(\n",
    "                inference_logits,\n",
    "                {input_data: source_batch, keep_prob: 1.0})\n",
    "            batch_valid_logits = sess.run(\n",
    "                inference_logits,\n",
    "                {input_data: valid_source, keep_prob: 1.0})\n",
    "                \n",
    "            train_acc = get_accuracy(target_batch, batch_train_logits)\n",
    "            valid_acc = get_accuracy(np.array(valid_target), batch_valid_logits)\n",
    "            end_time = time.time()\n",
    "            print('Epoch {:>3} Batch {:>4}/{} - Train Accuracy: {:>6.3f}, Validation Accuracy: {:>6.3f}, Loss: {:>6.3f}'\n",
    "                  .format(epoch_i, batch_i, len(source_int_text) // batch_size, train_acc, valid_acc, loss))\n",
    "\n",
    "    # Save Model\n",
    "    saver = tf.train.Saver()\n",
    "    saver.save(sess, save_path)\n",
    "    print('Model Trained and Saved')"
   ]
  },
  {
   "cell_type": "markdown",
   "metadata": {
    "deletable": true,
    "editable": true
   },
   "source": [
    "### Save Parameters\n",
    "Save the `batch_size` and `save_path` parameters for inference."
   ]
  },
  {
   "cell_type": "code",
   "execution_count": 17,
   "metadata": {
    "collapsed": false,
    "deletable": true,
    "editable": true
   },
   "outputs": [],
   "source": [
    "\"\"\"\n",
    "DON'T MODIFY ANYTHING IN THIS CELL\n",
    "\"\"\"\n",
    "# Save parameters for checkpoint\n",
    "helper.save_params(save_path)"
   ]
  },
  {
   "cell_type": "markdown",
   "metadata": {
    "deletable": true,
    "editable": true
   },
   "source": [
    "# Checkpoint"
   ]
  },
  {
   "cell_type": "code",
   "execution_count": 18,
   "metadata": {
    "collapsed": false,
    "deletable": true,
    "editable": true
   },
   "outputs": [],
   "source": [
    "\"\"\"\n",
    "DON'T MODIFY ANYTHING IN THIS CELL\n",
    "\"\"\"\n",
    "import tensorflow as tf\n",
    "import numpy as np\n",
    "import helper\n",
    "import problem_unittests as tests\n",
    "\n",
    "_, (source_vocab_to_int, target_vocab_to_int), (source_int_to_vocab, target_int_to_vocab) = helper.load_preprocess()\n",
    "load_path = helper.load_params()"
   ]
  },
  {
   "cell_type": "markdown",
   "metadata": {
    "deletable": true,
    "editable": true
   },
   "source": [
    "## Sentence to Sequence\n",
    "To feed a sentence into the model for translation, you first need to preprocess it.  Implement the function `sentence_to_seq()` to preprocess new sentences.\n",
    "\n",
    "- Convert the sentence to lowercase\n",
    "- Convert words into ids using `vocab_to_int`\n",
    " - Convert words not in the vocabulary, to the `<UNK>` word id."
   ]
  },
  {
   "cell_type": "code",
   "execution_count": 19,
   "metadata": {
    "collapsed": false,
    "deletable": true,
    "editable": true
   },
   "outputs": [
    {
     "name": "stdout",
     "output_type": "stream",
     "text": [
      "Tests Passed\n"
     ]
    }
   ],
   "source": [
    "def sentence_to_seq(sentence, vocab_to_int):\n",
    "    \"\"\"\n",
    "    Convert a sentence to a sequence of ids\n",
    "    :param sentence: String\n",
    "    :param vocab_to_int: Dictionary to go from the words to an id\n",
    "    :return: List of word ids\n",
    "    \"\"\"\n",
    "    # TODO: Implement Function\n",
    "    return [vocab_to_int.get(word, vocab_to_int['<UNK>']) for word in sentence.split()]\n",
    "\n",
    "\n",
    "\"\"\"\n",
    "DON'T MODIFY ANYTHING IN THIS CELL THAT IS BELOW THIS LINE\n",
    "\"\"\"\n",
    "tests.test_sentence_to_seq(sentence_to_seq)"
   ]
  },
  {
   "cell_type": "markdown",
   "metadata": {
    "deletable": true,
    "editable": true
   },
   "source": [
    "## Translate\n",
    "This will translate `translate_sentence` from English to French."
   ]
  },
  {
   "cell_type": "code",
   "execution_count": 20,
   "metadata": {
    "collapsed": false,
    "deletable": true,
    "editable": true
   },
   "outputs": [
    {
     "name": "stdout",
     "output_type": "stream",
     "text": [
      "Input\n",
      "  Word Ids:      [106, 124, 8, 57, 49, 97, 146]\n",
      "  English Words: ['he', 'saw', 'a', 'old', 'yellow', 'truck', '.']\n",
      "\n",
      "Prediction\n",
      "  Word Ids:      [58, 190, 228, 307, 83, 35, 302, 1]\n",
      "  French Words: [\"n'aime\", 'ses', 'jaune', 'pendant', 'ressort', 'août', 'mouillée', '<EOS>']\n"
     ]
    }
   ],
   "source": [
    "translate_sentence = 'he saw a old yellow truck .'\n",
    "\n",
    "\n",
    "\"\"\"\n",
    "DON'T MODIFY ANYTHING IN THIS CELL\n",
    "\"\"\"\n",
    "translate_sentence = sentence_to_seq(translate_sentence, source_vocab_to_int)\n",
    "\n",
    "loaded_graph = tf.Graph()\n",
    "with tf.Session(graph=loaded_graph) as sess:\n",
    "    # Load saved model\n",
    "    loader = tf.train.import_meta_graph(load_path + '.meta')\n",
    "    loader.restore(sess, load_path)\n",
    "\n",
    "    input_data = loaded_graph.get_tensor_by_name('input:0')\n",
    "    logits = loaded_graph.get_tensor_by_name('logits:0')\n",
    "    keep_prob = loaded_graph.get_tensor_by_name('keep_prob:0')\n",
    "\n",
    "    translate_logits = sess.run(logits, {input_data: [translate_sentence], keep_prob: 1.0})[0]\n",
    "\n",
    "print('Input')\n",
    "print('  Word Ids:      {}'.format([i for i in translate_sentence]))\n",
    "print('  English Words: {}'.format([source_int_to_vocab[i] for i in translate_sentence]))\n",
    "\n",
    "print('\\nPrediction')\n",
    "print('  Word Ids:      {}'.format([i for i in np.argmax(translate_logits, 1)]))\n",
    "print('  French Words: {}'.format([target_int_to_vocab[i] for i in np.argmax(translate_logits, 1)]))"
   ]
  },
  {
   "cell_type": "markdown",
   "metadata": {
    "deletable": true,
    "editable": true
   },
   "source": [
    "## Imperfect Translation\n",
    "You might notice that some sentences translate better than others.  Since the dataset you're using only has a vocabulary of 227 English words of the thousands that you use, you're only going to see good results using these words.  For this project, you don't need a perfect translation. However, if you want to create a better translation model, you'll need better data.\n",
    "\n",
    "You can train on the [WMT10 French-English corpus](http://www.statmt.org/wmt10/training-giga-fren.tar).  This dataset has more vocabulary and richer in topics discussed.  However, this will take you days to train, so make sure you've a GPU and the neural network is performing well on dataset we provided.  Just make sure you play with the WMT10 corpus after you've submitted this project.\n",
    "## Submitting This Project\n",
    "When submitting this project, make sure to run all the cells before saving the notebook. Save the notebook file as \"dlnd_language_translation.ipynb\" and save it as a HTML file under \"File\" -> \"Download as\". Include the \"helper.py\" and \"problem_unittests.py\" files in your submission."
   ]
  }
 ],
 "metadata": {
  "anaconda-cloud": {},
  "kernelspec": {
   "display_name": "Python 3",
   "language": "python",
   "name": "python3"
  },
  "language_info": {
   "codemirror_mode": {
    "name": "ipython",
    "version": 3
   },
   "file_extension": ".py",
   "mimetype": "text/x-python",
   "name": "python",
   "nbconvert_exporter": "python",
   "pygments_lexer": "ipython3",
   "version": "3.5.3"
  }
 },
 "nbformat": 4,
 "nbformat_minor": 0
}
